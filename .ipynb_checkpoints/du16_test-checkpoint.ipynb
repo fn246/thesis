{
 "cells": [
  {
   "cell_type": "code",
   "execution_count": 4,
   "metadata": {},
   "outputs": [],
   "source": [
    "import numpy as np\n",
    "import os\n",
    "from tensorflow.keras.models import model_from_json\n",
    "from pystoi.stoi import stoi\n",
    "import mir_eval #https://github.com/craffel/mir_eval\n",
    "import librosa\n",
    "import tensorflow as tf\n",
    "# import keras\n",
    "from scipy.io import wavfile\n",
    "from pypesq import pesq #https://github.com/vBaiCai/python-pesq\n",
    "import vqmetrics\n",
    "from natsort import natsorted"
   ]
  },
  {
   "cell_type": "code",
   "execution_count": 2,
   "metadata": {},
   "outputs": [],
   "source": [
    "#define reconstruct function to reconstruct sound from framed signal.\n",
    "def reconstruct(wave,angle):\n",
    "    recon = np.sqrt(np.power(10, wave))\n",
    "    recon1 = recon*np.cos(angle)+recon*np.sin(angle)*1j\n",
    "    recon = librosa.core.istft((recon1.T), hop_length=256, win_length=512, window='hann')\n",
    "    return recon"
   ]
  },
  {
   "cell_type": "code",
   "execution_count": 7,
   "metadata": {},
   "outputs": [],
   "source": [
    "Data_path = 'D:/studies/university/thesis/speech_separation_codes/du16/donesomestuff'\n",
    "\n",
    "loaded_model=tf.keras.models.load_model(os.path.normpath(os.path.join(Data_path, \"model_3h_dataset.json\")))"
   ]
  },
  {
   "cell_type": "code",
   "execution_count": 8,
   "metadata": {
    "scrolled": true
   },
   "outputs": [],
   "source": [
    "# import tensorflow as tf\n",
    "# json_file = open('model_10h_dataset.json', 'r')\n",
    "# loaded_model_json = json_file.read()\n",
    "# json_file.close()\n",
    "# loaded_model = tf.keras.models.model_from_json(loaded_model_json)\n",
    "# # load weights into new model\n",
    "# loaded_model.load_weights(\"model_10h_dataset.h5\")\n",
    "# print(\"Loaded model from disk\")"
   ]
  },
  {
   "cell_type": "code",
   "execution_count": 9,
   "metadata": {},
   "outputs": [
    {
     "name": "stdout",
     "output_type": "stream",
     "text": [
      "20\n",
      "0\n",
      "0\n",
      "0\n",
      "blah\n",
      "3\n",
      "3\n",
      "3\n",
      "blah\n",
      "6\n",
      "6\n",
      "6\n",
      "blah\n",
      "m3\n",
      "m3\n",
      "m3\n",
      "blah\n",
      "m6\n",
      "m6\n",
      "m6\n",
      "blah\n",
      "m9\n",
      "m9\n",
      "m9\n",
      "blah\n"
     ]
    }
   ],
   "source": [
    "stoi_eval=[]\n",
    "sdr=[]\n",
    "stoi_mixed=[]\n",
    "sdr_mixed=[]\n",
    "mean_sdr=[]\n",
    "mean_sdr_mixed=[]\n",
    "mean_stoi=[]\n",
    "mean_stoi_mixed=[]\n",
    "# orig_path=os.getcwd()\n",
    "Data_path = 'D:/studies/university/thesis/speech_separation_codes/du16/donesomestuff'\n",
    "w = 3\n",
    "inputs = os.listdir(os.path.join(Data_path,'ftr_refrmd_test'))\n",
    "inputs = natsorted(inputs)\n",
    "mixed = os.listdir(os.path.join(Data_path,'test_log2'))\n",
    "mixed = natsorted(mixed)\n",
    "clean1 = os.listdir(os.path.join(Data_path,'test_log','clean'))\n",
    "clean1 = natsorted(clean1)\n",
    "clean = clean1.copy()\n",
    "j=0\n",
    "foldername='results_3h_dataset'\n",
    "print(len(clean))\n",
    "for i in range(len(inputs)-1):\n",
    "    clean=np.concatenate((clean,clean1),axis=0)\n",
    "phase = os.listdir(os.path.join(Data_path,'test_phase2'))\n",
    "phase = natsorted(phase)\n",
    "if not os.path.exists(os.path.join(Data_path,foldername)):\n",
    "    os.makedirs(os.path.join(Data_path,foldername))\n",
    "if not os.path.exists(os.path.join(Data_path,foldername,'pesq')):\n",
    "#     print('creating pesq')\n",
    "    os.makedirs(os.path.join(Data_path,foldername,'pesq'))\n",
    "if not os.path.exists(os.path.join(Data_path,foldername,'sdr')):\n",
    "    os.makedirs(os.path.join(Data_path,foldername,'sdr'))\n",
    "if not os.path.exists(os.path.join(Data_path,foldername,'stoi')):\n",
    "    os.makedirs(os.path.join(Data_path,foldername,'stoi'))\n",
    "for filename1,filename2,filename4 in zip(inputs,phase,mixed):\n",
    "    print(filename1)\n",
    "    print(filename2)\n",
    "    print(filename4)\n",
    "    a = os.listdir(os.path.join(Data_path,'ftr_refrmd_test',filename1))\n",
    "    b = os.listdir(os.path.join(Data_path,'test_phase2',filename2))\n",
    "    print('blah')\n",
    "    c = os.listdir(os.path.join(Data_path,'test_log2',filename4))\n",
    "    stoi_eval=[]\n",
    "    pesq_eval=[]\n",
    "    sdr=[]\n",
    "    stoi_mixed=[]\n",
    "    sdr_mixed=[]\n",
    "    if not os.path.exists(os.path.join(Data_path,foldername,filename1)):\n",
    "        os.mkdir(os.path.join(Data_path,foldername,filename1))\n",
    "    for filename11,filename22,filename33,filename44 in zip(a,b,clean,c):\n",
    "        X_log=np.loadtxt(os.path.join(Data_path,'ftr_refrmd_test',filename1,filename11),delimiter=',')\n",
    "        X_phase=np.loadtxt(os.path.join(Data_path,'test_phase2',filename2,filename22),delimiter=',')\n",
    "        target = np.loadtxt(os.path.join(Data_path,'test_log','clean',filename33),delimiter=',')\n",
    "        framed_data=librosa.core.stft(target, n_fft=512, hop_length=256, win_length=512, window='hann')\n",
    "        abslt=np.absolute(framed_data)**2\n",
    "        dft_signal=np.log10(abslt+1e-7*np.ones(np.shape(abslt)))\n",
    "        mixed_files=np.loadtxt(os.path.join(Data_path,'test_log2',filename4,filename44),delimiter=',')\n",
    "        prediction = loaded_model.predict(X_log)\n",
    "        recon_out = reconstruct(prediction, X_phase)\n",
    "        recon_mixed = reconstruct(mixed_files, X_phase)\n",
    "        recon_clean = reconstruct(dft_signal.T, X_phase)\n",
    "        wavfile.write(os.path.join(Data_path,foldername,filename1)+'\\\\'+filename11.replace('.txt','')+'.wav',16000,recon_out)\n",
    "        target = target[0:len(recon_out)]\n",
    "        #target = np.reshape(target,(1,len(recon_out)))\n",
    "        #recon_out=np.reshape(recon_out,(1,len(recon_out)))\n",
    "#         pesq_eval.append(get_pesq(target, recon_out,16000))\n",
    "        sdr.append(mir_eval.separation.bss_eval_sources(target, recon_out, compute_permutation=False)[0][0])\n",
    "        stoi_eval.append(stoi(target, recon_out, 16000, extended=False))\n",
    "        sdr_mixed.append(mir_eval.separation.bss_eval_sources(target, recon_mixed, compute_permutation=False)[0][0])\n",
    "        stoi_mixed.append(stoi(target, recon_mixed, 16000, extended=False))\n",
    "    mean_stoi.append(np.mean(stoi_eval))\n",
    "    mean_stoi_mixed.append(np.mean(stoi_mixed))\n",
    "    mean_sdr.append(np.mean(sdr))\n",
    "    mean_sdr_mixed.append(np.mean(sdr_mixed))\n",
    "np.savetxt(os.path.join(Data_path,foldername,'sdr')+'\\\\'+'predictedsdr.txt',mean_sdr, fmt='%1.4f')\n",
    "np.savetxt(os.path.join(Data_path,foldername,'sdr')+'\\\\'+'mixedsdr.txt',mean_sdr_mixed, fmt='%1.4f')\n",
    "np.savetxt(os.path.join(Data_path,foldername,'stoi')+'\\\\'+'predictedstoi.txt',mean_stoi, fmt='%1.4f')\n",
    "np.savetxt(os.path.join(Data_path,foldername,'stoi')+'\\\\'+'mixedstoi.txt',mean_stoi_mixed, fmt='%1.4f')\n",
    "        "
   ]
  },
  {
   "cell_type": "code",
   "execution_count": 17,
   "metadata": {},
   "outputs": [
    {
     "data": {
      "text/plain": [
       "[0.7456984053715989,\n",
       " 0.7765166342402339,\n",
       " 0.801036474890563,\n",
       " 0.7082335265793885,\n",
       " 0.6644010488395744,\n",
       " 0.6155161345892877]"
      ]
     },
     "execution_count": 17,
     "metadata": {},
     "output_type": "execute_result"
    }
   ],
   "source": [
    "mean_stoi"
   ]
  },
  {
   "cell_type": "code",
   "execution_count": 15,
   "metadata": {},
   "outputs": [
    {
     "data": {
      "text/plain": [
       "[0.3102860913406525,\n",
       " 3.2391316120756075,\n",
       " 6.200104618041733,\n",
       " -2.5593159169272797,\n",
       " -5.322344893230758,\n",
       " -7.901038729183284]"
      ]
     },
     "execution_count": 15,
     "metadata": {},
     "output_type": "execute_result"
    }
   ],
   "source": [
    "mean_stoi_mixed"
   ]
  },
  {
   "cell_type": "code",
   "execution_count": 18,
   "metadata": {},
   "outputs": [],
   "source": [
    "def get_pesq(reference, degraded, sample_rate=None, program='pesq'):\n",
    "    \"\"\" Return PESQ quality estimation (two values: PESQ MOS and MOS LQO) based\n",
    "    on reference and degraded speech samples comparison.\n",
    "    Sample rate must be 8000 or 16000 (or can be defined reading reference file\n",
    "    header).\n",
    "    PESQ utility must be installed.\n",
    "    \"\"\"\n",
    "    if not os.path.isfile(reference) or not os.path.isfile(degraded):\n",
    "        raise ValueError('reference or degraded file does not exist')\n",
    "    if not sample_rate:\n",
    "        import wave\n",
    "        w = wave.open(reference, 'r')\n",
    "        sample_rate = w.getframerate()\n",
    "        w.close()\n",
    "    if sample_rate not in (8000, 16000):\n",
    "        raise ValueError('sample rate must be 8000 or 16000')\n",
    "    import subprocess\n",
    "    args = [ program, '+%d' % sample_rate, reference, degraded  ]\n",
    "    pipe = subprocess.Popen(args, stdout=subprocess.PIPE)\n",
    "    out, _ = pipe.communicate()\n",
    "    last_line = out.split('\\n')[-2]\n",
    "    if not last_line.startswith('P.862 Prediction'):\n",
    "        raise ValueError(last_line)\n",
    "    return tuple(map(float, last_line.split()[-2:]))"
   ]
  },
  {
   "cell_type": "code",
   "execution_count": 13,
   "metadata": {},
   "outputs": [
    {
     "data": {
      "text/plain": [
       "True"
      ]
     },
     "execution_count": 13,
     "metadata": {},
     "output_type": "execute_result"
    }
   ],
   "source": [
    "os.path.isfile('down_mixed501_1_16bit.wav')"
   ]
  },
  {
   "cell_type": "code",
   "execution_count": 23,
   "metadata": {},
   "outputs": [
    {
     "data": {
      "text/plain": [
       "(1, 30976)"
      ]
     },
     "execution_count": 23,
     "metadata": {},
     "output_type": "execute_result"
    }
   ],
   "source": [
    "np.reshape(target,(1,target.shape[0])).shape"
   ]
  },
  {
   "cell_type": "code",
   "execution_count": 36,
   "metadata": {},
   "outputs": [
    {
     "data": {
      "text/plain": [
       "['t2_bwba6a_m24_brax9p.txt',\n",
       " 't2_bwbn2s_m2_brif5p.txt',\n",
       " 't2_bwigzs_m2_sbit3p.txt',\n",
       " 't2_bwwn8a_m20_bbwe3p.txt',\n",
       " 't2_lwafza_m2_pgaq8a.txt',\n",
       " 't2_lwbf3p_m2_sgwc9n.txt',\n",
       " 't2_lwbszs_m2_sgai5n.txt',\n",
       " 't2_lwwf8a_m27_lgwd6n.txt',\n",
       " 't2_lwws4s_m26_lbwi6a.txt',\n",
       " 't2_pwad4a_m4_lrij9n.txt',\n",
       " 't2_pwbd8a_m13_sgia9a.txt',\n",
       " 't2_pwbk2a_m2_sria7p.txt',\n",
       " 't2_pwij2s_m2_sgav6a.txt',\n",
       " 't2_pwwq7n_m2_pgwlzs.txt',\n",
       " 't2_swaizs_m22_lrib8s.txt',\n",
       " 't2_swib3p_m16_bbaq7p.txt',\n",
       " 't2_swin9n_m20_pbim6s.txt',\n",
       " 't2_swwc4s_m9_bgis9a.txt',\n",
       " 't2_swwv6s_m22_lgad3n.txt',\n",
       " 't2_swwv8a_m4_lgal6s.txt']"
      ]
     },
     "execution_count": 36,
     "metadata": {},
     "output_type": "execute_result"
    }
   ],
   "source": [
    "b"
   ]
  },
  {
   "cell_type": "code",
   "execution_count": 15,
   "metadata": {},
   "outputs": [
    {
     "data": {
      "text/plain": [
       "[0.3102860913406525,\n",
       " 3.2391316120756075,\n",
       " 6.200104618041733,\n",
       " -2.5593159169272797,\n",
       " -5.322344893230758,\n",
       " -7.901038729183284]"
      ]
     },
     "execution_count": 15,
     "metadata": {},
     "output_type": "execute_result"
    }
   ],
   "source": [
    "mean_sdr_mixed"
   ]
  },
  {
   "cell_type": "code",
   "execution_count": 16,
   "metadata": {},
   "outputs": [
    {
     "data": {
      "text/plain": [
       "[1.8801163283004558,\n",
       " 3.110702817200885,\n",
       " 4.145654310156089,\n",
       " 0.29729541508744745,\n",
       " -1.4357295782128352,\n",
       " -3.143548267398306]"
      ]
     },
     "execution_count": 16,
     "metadata": {},
     "output_type": "execute_result"
    }
   ],
   "source": [
    "mean_sdr"
   ]
  },
  {
   "cell_type": "code",
   "execution_count": 8,
   "metadata": {},
   "outputs": [
    {
     "data": {
      "text/plain": [
       "[0.7685113456028858,\n",
       " 0.8256814037372072,\n",
       " 0.8741985625436245,\n",
       " 0.7045165302441327,\n",
       " 0.6369713725445877,\n",
       " 0.5708009882967371]"
      ]
     },
     "execution_count": 8,
     "metadata": {},
     "output_type": "execute_result"
    }
   ],
   "source": [
    "mean_stoi_mixed"
   ]
  },
  {
   "cell_type": "code",
   "execution_count": 9,
   "metadata": {},
   "outputs": [
    {
     "data": {
      "text/plain": [
       "[0.7593971562248002,\n",
       " 0.7934579192735887,\n",
       " 0.8209783838044707,\n",
       " 0.7214521536072316,\n",
       " 0.6793393055758272,\n",
       " 0.6324290698572613]"
      ]
     },
     "execution_count": 9,
     "metadata": {},
     "output_type": "execute_result"
    }
   ],
   "source": [
    "mean_stoi"
   ]
  },
  {
   "cell_type": "code",
   "execution_count": 13,
   "metadata": {},
   "outputs": [],
   "source": [
    "import sounddevice as sd\n",
    "sd.play(recon_out,16000)"
   ]
  },
  {
   "cell_type": "code",
   "execution_count": 114,
   "metadata": {},
   "outputs": [
    {
     "name": "stdout",
     "output_type": "stream",
     "text": [
      "Loaded model from disk\n"
     ]
    },
    {
     "data": {
      "text/plain": [
       "(2048,)"
      ]
     },
     "execution_count": 114,
     "metadata": {},
     "output_type": "execute_result"
    }
   ],
   "source": [
    "json_file = open('model.json', 'r')\n",
    "loaded_model_json = json_file.read()\n",
    "json_file.close()\n",
    "loaded_model = model_from_json(loaded_model_json)\n",
    "# load weights into new model\n",
    "loaded_model.load_weights(\"model.h5\")\n",
    "print(\"Loaded model from disk\")\n",
    "loaded_model.get_weights()[7].shape"
   ]
  },
  {
   "cell_type": "code",
   "execution_count": 38,
   "metadata": {},
   "outputs": [
    {
     "data": {
      "text/plain": [
       "[0.27250787320886743,\n",
       " 1.009256933609972,\n",
       " 0.13210158711151695,\n",
       " 0.18021384487665665,\n",
       " 0.10534005088946988,\n",
       " 0.5379187225052767,\n",
       " -0.039828053057183135,\n",
       " 0.2647265627045134,\n",
       " 0.4587389332966737,\n",
       " 0.3157558789750424,\n",
       " 0.17449824663662306,\n",
       " 0.7318601006544303,\n",
       " 0.3629185464526221,\n",
       " 0.1592561321930388,\n",
       " 0.354954866297253,\n",
       " 0.27866791814726394,\n",
       " 0.2746475512932473,\n",
       " 0.013752575452037393,\n",
       " 0.6303359277642513,\n",
       " -0.011902372198522514,\n",
       " 3.1965240540747737,\n",
       " 3.752261370574656,\n",
       " 3.0844289233772075,\n",
       " 3.1471791331528056,\n",
       " 3.0923680549532664,\n",
       " 3.4701920119831993,\n",
       " 2.9737157327544743,\n",
       " 3.1953969333255388,\n",
       " 3.3509504250784072,\n",
       " 3.2414782977480283,\n",
       " 3.125037564573854,\n",
       " 3.5546310285963,\n",
       " 3.3364650453163573,\n",
       " 3.1342525819610283,\n",
       " 3.264001681199253,\n",
       " 3.204238889445086,\n",
       " 3.2273169303763054,\n",
       " 2.972965216891645,\n",
       " 3.4601573185859658,\n",
       " 2.999071047543995,\n",
       " 6.147378100686868,\n",
       " 6.582528614575111,\n",
       " 6.053969631681607,\n",
       " 6.144989098660588,\n",
       " 6.090023100002847,\n",
       " 6.432703069346814,\n",
       " 5.992961689047805,\n",
       " 6.1536199277247,\n",
       " 6.295364059025598,\n",
       " 6.211272275804577,\n",
       " 6.102832056696688,\n",
       " 6.441894054931122,\n",
       " 6.320809968345136,\n",
       " 6.133702199892127,\n",
       " 6.215194394866038,\n",
       " 6.161577412514349,\n",
       " 6.203026761908358,\n",
       " 5.94866832310553,\n",
       " 6.359993007680533,\n",
       " 6.0095846143382605,\n",
       " -2.6078481734055314,\n",
       " -1.6005548597002837,\n",
       " -2.791716212827478,\n",
       " -2.7149879895086833,\n",
       " -2.8573740668621217,\n",
       " -2.3384992181184887,\n",
       " -3.0314882873114484,\n",
       " -2.6178513785842368,\n",
       " -2.3352213654948777,\n",
       " -2.5199437416486163,\n",
       " -2.720851029625912,\n",
       " -1.9867848544970346,\n",
       " -2.5912056425472074,\n",
       " -2.758162501395357,\n",
       " -2.4756558968707183,\n",
       " -2.5899597227806215,\n",
       " -2.633348647804889,\n",
       " -2.915939912560014,\n",
       " -2.0793299840239463,\n",
       " -3.0195948529781322,\n",
       " -5.416535975886211,\n",
       " -4.013334121506329,\n",
       " -5.667369229192776,\n",
       " -5.460320713736849,\n",
       " -5.767919005506062,\n",
       " -5.113266034426021,\n",
       " -5.9655259212979725,\n",
       " -5.416507345848219,\n",
       " -4.9529356556525,\n",
       " -5.183584604633506,\n",
       " -5.509114667182484,\n",
       " -4.540736919319199,\n",
       " -5.509528861564652,\n",
       " -5.553247260066923,\n",
       " -5.1648718042263875,\n",
       " -5.357115982831458,\n",
       " -5.456722001571562,\n",
       " -5.792768709841414,\n",
       " -4.590726682684142,\n",
       " -6.014766367640478,\n",
       " -8.108158114364505,\n",
       " -6.151733168236625,\n",
       " -8.461486709736894,\n",
       " -7.926728474405272,\n",
       " -8.572273076624935,\n",
       " -7.71058503437075,\n",
       " -8.769982558368522,\n",
       " -8.071709508230795,\n",
       " -7.280162730754235,\n",
       " -7.552596703014958,\n",
       " -8.098697730845618,\n",
       " -6.845046560005988,\n",
       " -8.324264475638323,\n",
       " -8.11400594256305,\n",
       " -7.614905658643681,\n",
       " -7.94989572577504,\n",
       " -8.127337062787968,\n",
       " -8.575418106082779,\n",
       " -6.788846790105722,\n",
       " -8.97694045311004]"
      ]
     },
     "execution_count": 38,
     "metadata": {},
     "output_type": "execute_result"
    }
   ],
   "source": [
    "sdr_mixed"
   ]
  },
  {
   "cell_type": "code",
   "execution_count": 108,
   "metadata": {},
   "outputs": [
    {
     "data": {
      "text/plain": [
       "0.002900133142247796"
      ]
     },
     "execution_count": 108,
     "metadata": {},
     "output_type": "execute_result"
    }
   ],
   "source": [
    "target[1000]"
   ]
  },
  {
   "cell_type": "code",
   "execution_count": 115,
   "metadata": {},
   "outputs": [
    {
     "data": {
      "text/plain": [
       "'m9'"
      ]
     },
     "execution_count": 115,
     "metadata": {},
     "output_type": "execute_result"
    }
   ],
   "source": [
    "filename2"
   ]
  },
  {
   "cell_type": "code",
   "execution_count": 54,
   "metadata": {},
   "outputs": [
    {
     "data": {
      "text/plain": [
       "(30976,)"
      ]
     },
     "execution_count": 54,
     "metadata": {},
     "output_type": "execute_result"
    }
   ],
   "source": [
    "framed_data=librosa.core.stft(target, n_fft=512, hop_length=256, win_length=512, window='hann')\n",
    "abslt=np.absolute(framed_data)**2\n",
    "dft_signal=np.log10(abslt+1e-7*np.ones(np.shape(abslt)))\n",
    "reconstruct(dft_signal.T,X_phase).shape"
   ]
  },
  {
   "cell_type": "code",
   "execution_count": 94,
   "metadata": {},
   "outputs": [
    {
     "data": {
      "text/plain": [
       "'clean'"
      ]
     },
     "execution_count": 94,
     "metadata": {},
     "output_type": "execute_result"
    }
   ],
   "source": [
    "filename4"
   ]
  },
  {
   "cell_type": "code",
   "execution_count": 127,
   "metadata": {},
   "outputs": [
    {
     "data": {
      "text/plain": [
       "(1, 27904)"
      ]
     },
     "execution_count": 127,
     "metadata": {},
     "output_type": "execute_result"
    }
   ],
   "source": [
    "target.shape"
   ]
  },
  {
   "cell_type": "code",
   "execution_count": 36,
   "metadata": {},
   "outputs": [],
   "source": [
    "import sounddevice as sd\n",
    "# recon = reconstruct(X_log[:,0:257], X_phase)\n",
    "samplerate=16000\n",
    "sd.play(recon_clean, samplerate)\n",
    "#sd.play(target.T, samplerate)\n"
   ]
  },
  {
   "cell_type": "code",
   "execution_count": 134,
   "metadata": {},
   "outputs": [
    {
     "data": {
      "text/plain": [
       "(27904,)"
      ]
     },
     "execution_count": 134,
     "metadata": {},
     "output_type": "execute_result"
    }
   ],
   "source": [
    "recon_mixed.shape"
   ]
  },
  {
   "cell_type": "code",
   "execution_count": 22,
   "metadata": {},
   "outputs": [
    {
     "name": "stdout",
     "output_type": "stream",
     "text": [
      "20\n"
     ]
    }
   ],
   "source": [
    "orig_path=os.getcwd()\n",
    "w = 7\n",
    "inputs = os.listdir(os.path.join(orig_path,'ftr_refrmd_test'))\n",
    "inputs = natsorted(inputs)\n",
    "clean1 = os.listdir(os.path.join(orig_path,'test_log','clean'))\n",
    "clean1 = natsorted(clean1)\n",
    "clean = clean1.copy()\n",
    "print(len(clean))\n",
    "for i in range(len(inputs)-1):\n",
    "    clean=np.concatenate((clean,clean1),axis=0)"
   ]
  },
  {
   "cell_type": "code",
   "execution_count": 23,
   "metadata": {},
   "outputs": [
    {
     "data": {
      "text/plain": [
       "120"
      ]
     },
     "execution_count": 23,
     "metadata": {},
     "output_type": "execute_result"
    }
   ],
   "source": [
    "len(clean)\n"
   ]
  },
  {
   "cell_type": "code",
   "execution_count": 5,
   "metadata": {},
   "outputs": [],
   "source": [
    "X_log=np.loadtxt('test_log\\\\'+'3'+'\\\\'+'t2_bwbn2s_m2_brif5p'+'.txt', delimiter=',')\n",
    "X_phase=np.loadtxt('test_phase\\\\'+'3'+'\\\\'+'t2_bwbn2s_m2_brif5p'+'.txt', delimiter=',')\n",
    "recon = reconstruct(X_log, X_phase)\n",
    "sdr=mir_eval.separation.bss_eval_sources(recon, recon, compute_permutation=True)[0][0]\n",
    "sir=mir_eval.separation.bss_eval_sources(recon, recon, compute_permutation=True)[1][0]\n",
    "sar=mir_eval.separation.bss_eval_sources(recon, recon, compute_permutation=True)[2][0]\n",
    "stoi_ev=stoi(recon, recon, 16000, extended=False)\n"
   ]
  },
  {
   "cell_type": "code",
   "execution_count": 14,
   "metadata": {},
   "outputs": [
    {
     "ename": "FileNotFoundError",
     "evalue": "[WinError 2] The system cannot find the file specified",
     "output_type": "error",
     "traceback": [
      "\u001b[1;31m---------------------------------------------------------------------------\u001b[0m",
      "\u001b[1;31mFileNotFoundError\u001b[0m                         Traceback (most recent call last)",
      "\u001b[1;32m<ipython-input-14-060c16782012>\u001b[0m in \u001b[0;36m<module>\u001b[1;34m()\u001b[0m\n\u001b[1;32m----> 1\u001b[1;33m \u001b[0mpesq_ev\u001b[0m\u001b[1;33m=\u001b[0m\u001b[0mvqmetrics\u001b[0m\u001b[1;33m.\u001b[0m\u001b[0mpesq\u001b[0m\u001b[1;33m(\u001b[0m\u001b[1;34m't2_bwigzs_m2_sbit3p.wav'\u001b[0m\u001b[1;33m,\u001b[0m \u001b[1;34m't2_bwigzs_m2_sbit3p.wav'\u001b[0m\u001b[1;33m,\u001b[0m\u001b[1;36m16000\u001b[0m\u001b[1;33m)\u001b[0m\u001b[1;33m\u001b[0m\u001b[0m\n\u001b[0m",
      "\u001b[1;32m~\\Anaconda3\\lib\\site-packages\\vqmetrics.py\u001b[0m in \u001b[0;36mpesq\u001b[1;34m(reference, degraded, sample_rate, program)\u001b[0m\n\u001b[0;32m    136\u001b[0m     \u001b[1;32mimport\u001b[0m \u001b[0msubprocess\u001b[0m\u001b[1;33m\u001b[0m\u001b[0m\n\u001b[0;32m    137\u001b[0m     \u001b[0margs\u001b[0m \u001b[1;33m=\u001b[0m \u001b[1;33m[\u001b[0m \u001b[0mprogram\u001b[0m\u001b[1;33m,\u001b[0m \u001b[1;34m'+%d'\u001b[0m \u001b[1;33m%\u001b[0m \u001b[0msample_rate\u001b[0m\u001b[1;33m,\u001b[0m \u001b[0mreference\u001b[0m\u001b[1;33m,\u001b[0m \u001b[0mdegraded\u001b[0m  \u001b[1;33m]\u001b[0m\u001b[1;33m\u001b[0m\u001b[0m\n\u001b[1;32m--> 138\u001b[1;33m     \u001b[0mpipe\u001b[0m \u001b[1;33m=\u001b[0m \u001b[0msubprocess\u001b[0m\u001b[1;33m.\u001b[0m\u001b[0mPopen\u001b[0m\u001b[1;33m(\u001b[0m\u001b[0margs\u001b[0m\u001b[1;33m,\u001b[0m \u001b[0mstdout\u001b[0m\u001b[1;33m=\u001b[0m\u001b[0msubprocess\u001b[0m\u001b[1;33m.\u001b[0m\u001b[0mPIPE\u001b[0m\u001b[1;33m)\u001b[0m\u001b[1;33m\u001b[0m\u001b[0m\n\u001b[0m\u001b[0;32m    139\u001b[0m     \u001b[0mout\u001b[0m\u001b[1;33m,\u001b[0m \u001b[0m_\u001b[0m \u001b[1;33m=\u001b[0m \u001b[0mpipe\u001b[0m\u001b[1;33m.\u001b[0m\u001b[0mcommunicate\u001b[0m\u001b[1;33m(\u001b[0m\u001b[1;33m)\u001b[0m\u001b[1;33m\u001b[0m\u001b[0m\n\u001b[0;32m    140\u001b[0m     \u001b[0mlast_line\u001b[0m \u001b[1;33m=\u001b[0m \u001b[0mout\u001b[0m\u001b[1;33m.\u001b[0m\u001b[0msplit\u001b[0m\u001b[1;33m(\u001b[0m\u001b[1;34m'\\n'\u001b[0m\u001b[1;33m)\u001b[0m\u001b[1;33m[\u001b[0m\u001b[1;33m-\u001b[0m\u001b[1;36m2\u001b[0m\u001b[1;33m]\u001b[0m\u001b[1;33m\u001b[0m\u001b[0m\n",
      "\u001b[1;32m~\\Anaconda3\\lib\\subprocess.py\u001b[0m in \u001b[0;36m__init__\u001b[1;34m(self, args, bufsize, executable, stdin, stdout, stderr, preexec_fn, close_fds, shell, cwd, env, universal_newlines, startupinfo, creationflags, restore_signals, start_new_session, pass_fds, encoding, errors)\u001b[0m\n\u001b[0;32m    707\u001b[0m                                 \u001b[0mc2pread\u001b[0m\u001b[1;33m,\u001b[0m \u001b[0mc2pwrite\u001b[0m\u001b[1;33m,\u001b[0m\u001b[1;33m\u001b[0m\u001b[0m\n\u001b[0;32m    708\u001b[0m                                 \u001b[0merrread\u001b[0m\u001b[1;33m,\u001b[0m \u001b[0merrwrite\u001b[0m\u001b[1;33m,\u001b[0m\u001b[1;33m\u001b[0m\u001b[0m\n\u001b[1;32m--> 709\u001b[1;33m                                 restore_signals, start_new_session)\n\u001b[0m\u001b[0;32m    710\u001b[0m         \u001b[1;32mexcept\u001b[0m\u001b[1;33m:\u001b[0m\u001b[1;33m\u001b[0m\u001b[0m\n\u001b[0;32m    711\u001b[0m             \u001b[1;31m# Cleanup if the child failed starting.\u001b[0m\u001b[1;33m\u001b[0m\u001b[1;33m\u001b[0m\u001b[0m\n",
      "\u001b[1;32m~\\Anaconda3\\lib\\subprocess.py\u001b[0m in \u001b[0;36m_execute_child\u001b[1;34m(self, args, executable, preexec_fn, close_fds, pass_fds, cwd, env, startupinfo, creationflags, shell, p2cread, p2cwrite, c2pread, c2pwrite, errread, errwrite, unused_restore_signals, unused_start_new_session)\u001b[0m\n\u001b[0;32m    995\u001b[0m                                          \u001b[0menv\u001b[0m\u001b[1;33m,\u001b[0m\u001b[1;33m\u001b[0m\u001b[0m\n\u001b[0;32m    996\u001b[0m                                          \u001b[0mos\u001b[0m\u001b[1;33m.\u001b[0m\u001b[0mfspath\u001b[0m\u001b[1;33m(\u001b[0m\u001b[0mcwd\u001b[0m\u001b[1;33m)\u001b[0m \u001b[1;32mif\u001b[0m \u001b[0mcwd\u001b[0m \u001b[1;32mis\u001b[0m \u001b[1;32mnot\u001b[0m \u001b[1;32mNone\u001b[0m \u001b[1;32melse\u001b[0m \u001b[1;32mNone\u001b[0m\u001b[1;33m,\u001b[0m\u001b[1;33m\u001b[0m\u001b[0m\n\u001b[1;32m--> 997\u001b[1;33m                                          startupinfo)\n\u001b[0m\u001b[0;32m    998\u001b[0m             \u001b[1;32mfinally\u001b[0m\u001b[1;33m:\u001b[0m\u001b[1;33m\u001b[0m\u001b[0m\n\u001b[0;32m    999\u001b[0m                 \u001b[1;31m# Child is launched. Close the parent's copy of those pipe\u001b[0m\u001b[1;33m\u001b[0m\u001b[1;33m\u001b[0m\u001b[0m\n",
      "\u001b[1;31mFileNotFoundError\u001b[0m: [WinError 2] The system cannot find the file specified"
     ]
    }
   ],
   "source": [
    "pesq_ev=vqmetrics.pesq('t2_bwigzs_m2_sbit3p.wav', 't2_bwigzs_m2_sbit3p.wav',16000)"
   ]
  },
  {
   "cell_type": "code",
   "execution_count": null,
   "metadata": {},
   "outputs": [],
   "source": [
    "pesq_ev=pesq(recon, recon, 16000)"
   ]
  },
  {
   "cell_type": "code",
   "execution_count": 16,
   "metadata": {},
   "outputs": [
    {
     "ename": "NameError",
     "evalue": "name 'command' is not defined",
     "output_type": "error",
     "traceback": [
      "\u001b[1;31m---------------------------------------------------------------------------\u001b[0m",
      "\u001b[1;31mNameError\u001b[0m                                 Traceback (most recent call last)",
      "\u001b[1;32m<ipython-input-16-302b56b0f98f>\u001b[0m in \u001b[0;36m<module>\u001b[1;34m()\u001b[0m\n\u001b[0;32m      1\u001b[0m \u001b[1;32mimport\u001b[0m \u001b[0msubprocess\u001b[0m\u001b[1;33m\u001b[0m\u001b[0m\n\u001b[1;32m----> 2\u001b[1;33m \u001b[0mprocess\u001b[0m \u001b[1;33m=\u001b[0m \u001b[0msubprocess\u001b[0m\u001b[1;33m.\u001b[0m\u001b[0mPopen\u001b[0m\u001b[1;33m(\u001b[0m\u001b[0mcommand\u001b[0m\u001b[1;33m,\u001b[0m \u001b[0mstdout\u001b[0m\u001b[1;33m=\u001b[0m\u001b[0mtempFile\u001b[0m\u001b[1;33m,\u001b[0m \u001b[0mshell\u001b[0m\u001b[1;33m=\u001b[0m\u001b[1;32mTrue\u001b[0m\u001b[1;33m)\u001b[0m\u001b[1;33m\u001b[0m\u001b[0m\n\u001b[0m",
      "\u001b[1;31mNameError\u001b[0m: name 'command' is not defined"
     ]
    }
   ],
   "source": [
    "import subprocess\n",
    "process = subprocess.Popen(command, stdout=tempFile, shell=True)"
   ]
  }
 ],
 "metadata": {
  "kernelspec": {
   "display_name": "Python 3",
   "language": "python",
   "name": "python3"
  },
  "language_info": {
   "codemirror_mode": {
    "name": "ipython",
    "version": 3
   },
   "file_extension": ".py",
   "mimetype": "text/x-python",
   "name": "python",
   "nbconvert_exporter": "python",
   "pygments_lexer": "ipython3",
   "version": "3.6.7"
  }
 },
 "nbformat": 4,
 "nbformat_minor": 2
}
