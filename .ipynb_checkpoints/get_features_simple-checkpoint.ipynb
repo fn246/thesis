{
 "cells": [
  {
   "cell_type": "code",
   "execution_count": 5,
   "metadata": {},
   "outputs": [],
   "source": [
    "import csv\n",
    "import math as m\n",
    "from natsort import natsorted\n",
    "import h5py\n",
    "import os\n",
    "import librosa\n",
    "import numpy as np\n",
    "#in this section the features for mixed voices are extracted.\n",
    "orig_path=os.getcwd()\n",
    "i = 1\n",
    "a = os.listdir(os.path.join(orig_path,'sec_mixed2_6'))\n",
    "a = natsorted(a)\n",
    "f.close()\n",
    "f = h5py.File('mixed_log_simple.hdf5', 'w')\n",
    "d = f.create_dataset('mixed_log_simple', (0,257),maxshape=(None,257), dtype='f', chunks=True)\n",
    "ff.close()\n",
    "ff = h5py.File('mixed_phase_simple.hdf5', 'w')\n",
    "dd = ff.create_dataset('mixed_phase_simple', (0,257),maxshape=(None,257), dtype='f', chunks=True)\n",
    "w=7\n",
    "for filename in a:\n",
    "    wav_data, sr = librosa.load(os.path.join(orig_path,'sec_mixed2_6')+\"/\"+filename, sr=16000) \n",
    "    framed_data=librosa.core.stft(wav_data, n_fft=512, hop_length=256, win_length=512, window='hann')\n",
    "#     print(framed_data)\n",
    "    abslt=np.absolute(framed_data)**2\n",
    "#     print(abslt)\n",
    "    dft_signal=np.log10(abslt+1e-7*np.ones(np.shape(abslt)))\n",
    "    data_phase=np.angle(framed_data)\n",
    "    d.resize(d.shape[0]+dft_signal.shape[1], axis=0)   \n",
    "    d[-1*dft_signal.shape[1]:] = dft_signal.T\n",
    "    dd.resize(dd.shape[0]+data_phase.shape[1], axis=0)   \n",
    "    dd[-1*data_phase.shape[1]:] = data_phase.T\n",
    "    i=i+1\n",
    "f.close()\n",
    "ff.close()"
   ]
  },
  {
   "cell_type": "code",
   "execution_count": null,
   "metadata": {},
   "outputs": [],
   "source": []
  }
 ],
 "metadata": {
  "kernelspec": {
   "display_name": "Python 3",
   "language": "python",
   "name": "python3"
  },
  "language_info": {
   "codemirror_mode": {
    "name": "ipython",
    "version": 3
   },
   "file_extension": ".py",
   "mimetype": "text/x-python",
   "name": "python",
   "nbconvert_exporter": "python",
   "pygments_lexer": "ipython3",
   "version": "3.6.7"
  }
 },
 "nbformat": 4,
 "nbformat_minor": 2
}
