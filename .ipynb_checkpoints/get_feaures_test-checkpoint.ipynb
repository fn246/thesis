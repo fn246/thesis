{
 "cells": [
  {
   "cell_type": "code",
   "execution_count": 17,
   "metadata": {},
   "outputs": [],
   "source": [
    "import librosa\n",
    "import sounddevice as sd\n",
    "from pystoi.stoi import stoi\n",
    "from librosa.core import stft, istft\n",
    "import os\n",
    "import h5py\n",
    "from natsort import natsorted\n",
    "import numpy as np\n",
    "import math as m"
   ]
  },
  {
   "cell_type": "code",
   "execution_count": 18,
   "metadata": {},
   "outputs": [],
   "source": [
    "import math as m"
   ]
  },
  {
   "cell_type": "code",
   "execution_count": 19,
   "metadata": {},
   "outputs": [],
   "source": [
    "orig_path = 'D:/studies/university/thesis/speech_separation_codes/du16/donesomestuff'\n",
    "i = 1\n",
    "w = 3\n",
    "a = os.listdir(os.path.join(orig_path,'sec_mixed2_6_test'))\n",
    "a = natsorted(a)"
   ]
  },
  {
   "cell_type": "code",
   "execution_count": 5,
   "metadata": {},
   "outputs": [
    {
     "name": "stdout",
     "output_type": "stream",
     "text": [
      "t2_bwba6a_m24_brax9p\n",
      "t2_bwbn2s_m2_brif5p\n",
      "t2_bwigzs_m2_sbit3p\n",
      "t2_bwwn8a_m20_bbwe3p\n",
      "t2_lwafza_m2_pgaq8a\n",
      "t2_lwbf3p_m2_sgwc9n\n",
      "t2_lwbszs_m2_sgai5n\n",
      "t2_lwwf8a_m27_lgwd6n\n",
      "t2_lwws4s_m26_lbwi6a\n",
      "t2_pwad4a_m4_lrij9n\n",
      "t2_pwbd8a_m13_sgia9a\n",
      "t2_pwbk2a_m2_sria7p\n",
      "t2_pwij2s_m2_sgav6a\n",
      "t2_pwwq7n_m2_pgwlzs\n",
      "t2_swaizs_m22_lrib8s\n",
      "t2_swib3p_m16_bbaq7p\n",
      "t2_swin9n_m20_pbim6s\n",
      "t2_swwc4s_m9_bgis9a\n",
      "t2_swwv6s_m22_lgad3n\n",
      "t2_swwv8a_m4_lgal6s\n",
      "t2_bwba6a_m24_brax9p\n",
      "t2_bwbn2s_m2_brif5p\n",
      "t2_bwigzs_m2_sbit3p\n",
      "t2_bwwn8a_m20_bbwe3p\n",
      "t2_lwafza_m2_pgaq8a\n",
      "t2_lwbf3p_m2_sgwc9n\n",
      "t2_lwbszs_m2_sgai5n\n",
      "t2_lwwf8a_m27_lgwd6n\n",
      "t2_lwws4s_m26_lbwi6a\n",
      "t2_pwad4a_m4_lrij9n\n",
      "t2_pwbd8a_m13_sgia9a\n",
      "t2_pwbk2a_m2_sria7p\n",
      "t2_pwij2s_m2_sgav6a\n",
      "t2_pwwq7n_m2_pgwlzs\n",
      "t2_swaizs_m22_lrib8s\n",
      "t2_swib3p_m16_bbaq7p\n",
      "t2_swin9n_m20_pbim6s\n",
      "t2_swwc4s_m9_bgis9a\n",
      "t2_swwv6s_m22_lgad3n\n",
      "t2_swwv8a_m4_lgal6s\n",
      "t2_bwba6a_m24_brax9p\n",
      "t2_bwbn2s_m2_brif5p\n",
      "t2_bwigzs_m2_sbit3p\n",
      "t2_bwwn8a_m20_bbwe3p\n",
      "t2_lwafza_m2_pgaq8a\n",
      "t2_lwbf3p_m2_sgwc9n\n",
      "t2_lwbszs_m2_sgai5n\n",
      "t2_lwwf8a_m27_lgwd6n\n",
      "t2_lwws4s_m26_lbwi6a\n",
      "t2_pwad4a_m4_lrij9n\n",
      "t2_pwbd8a_m13_sgia9a\n",
      "t2_pwbk2a_m2_sria7p\n",
      "t2_pwij2s_m2_sgav6a\n",
      "t2_pwwq7n_m2_pgwlzs\n",
      "t2_swaizs_m22_lrib8s\n",
      "t2_swib3p_m16_bbaq7p\n",
      "t2_swin9n_m20_pbim6s\n",
      "t2_swwc4s_m9_bgis9a\n",
      "t2_swwv6s_m22_lgad3n\n",
      "t2_swwv8a_m4_lgal6s\n",
      "t2_bwba6a_m24_brax9p\n",
      "t2_bwbn2s_m2_brif5p\n",
      "t2_bwigzs_m2_sbit3p\n",
      "t2_bwwn8a_m20_bbwe3p\n",
      "t2_lwafza_m2_pgaq8a\n",
      "t2_lwbf3p_m2_sgwc9n\n",
      "t2_lwbszs_m2_sgai5n\n",
      "t2_lwwf8a_m27_lgwd6n\n",
      "t2_lwws4s_m26_lbwi6a\n",
      "t2_pwad4a_m4_lrij9n\n",
      "t2_pwbd8a_m13_sgia9a\n",
      "t2_pwbk2a_m2_sria7p\n",
      "t2_pwij2s_m2_sgav6a\n",
      "t2_pwwq7n_m2_pgwlzs\n",
      "t2_swaizs_m22_lrib8s\n",
      "t2_swib3p_m16_bbaq7p\n",
      "t2_swin9n_m20_pbim6s\n",
      "t2_swwc4s_m9_bgis9a\n",
      "t2_swwv6s_m22_lgad3n\n",
      "t2_swwv8a_m4_lgal6s\n",
      "t2_bwba6a_m24_brax9p\n",
      "t2_bwbn2s_m2_brif5p\n",
      "t2_bwigzs_m2_sbit3p\n",
      "t2_bwwn8a_m20_bbwe3p\n",
      "t2_lwafza_m2_pgaq8a\n",
      "t2_lwbf3p_m2_sgwc9n\n",
      "t2_lwbszs_m2_sgai5n\n",
      "t2_lwwf8a_m27_lgwd6n\n",
      "t2_lwws4s_m26_lbwi6a\n",
      "t2_pwad4a_m4_lrij9n\n",
      "t2_pwbd8a_m13_sgia9a\n",
      "t2_pwbk2a_m2_sria7p\n",
      "t2_pwij2s_m2_sgav6a\n",
      "t2_pwwq7n_m2_pgwlzs\n",
      "t2_swaizs_m22_lrib8s\n",
      "t2_swib3p_m16_bbaq7p\n",
      "t2_swin9n_m20_pbim6s\n",
      "t2_swwc4s_m9_bgis9a\n",
      "t2_swwv6s_m22_lgad3n\n",
      "t2_swwv8a_m4_lgal6s\n",
      "t2_bwba6a_m24_brax9p\n",
      "t2_bwbn2s_m2_brif5p\n",
      "t2_bwigzs_m2_sbit3p\n",
      "t2_bwwn8a_m20_bbwe3p\n",
      "t2_lwafza_m2_pgaq8a\n",
      "t2_lwbf3p_m2_sgwc9n\n",
      "t2_lwbszs_m2_sgai5n\n",
      "t2_lwwf8a_m27_lgwd6n\n",
      "t2_lwws4s_m26_lbwi6a\n",
      "t2_pwad4a_m4_lrij9n\n",
      "t2_pwbd8a_m13_sgia9a\n",
      "t2_pwbk2a_m2_sria7p\n",
      "t2_pwij2s_m2_sgav6a\n",
      "t2_pwwq7n_m2_pgwlzs\n",
      "t2_swaizs_m22_lrib8s\n",
      "t2_swib3p_m16_bbaq7p\n",
      "t2_swin9n_m20_pbim6s\n",
      "t2_swwc4s_m9_bgis9a\n",
      "t2_swwv6s_m22_lgad3n\n",
      "t2_swwv8a_m4_lgal6s\n"
     ]
    }
   ],
   "source": [
    "raw_folder = 'sec_mixed2_6_test'\n",
    "log_folder = 'test_log'\n",
    "phase_folder = 'test_phase'\n",
    "a = os.listdir(os.path.join(orig_path,raw_folder))\n",
    "a = natsorted(a)\n",
    "for filename in a:\n",
    "    if filename!='clean':\n",
    "        b = os.listdir(os.path.join(orig_path,raw_folder,filename))\n",
    "        b = natsorted(b)\n",
    "        if not os.path.exists(os.path.join(orig_path,log_folder,filename)):\n",
    "            os.mkdir(os.path.join(orig_path,log_folder,filename))\n",
    "        if not os.path.exists(os.path.join(orig_path,phase_folder,filename)):\n",
    "            os.mkdir(os.path.join(orig_path,phase_folder,filename))\n",
    "        for filename2 in b:\n",
    "            wav_data, sr = librosa.load(os.path.join(orig_path,raw_folder)+\"/\"+filename+'/'+filename2, sr=16000) \n",
    "            framed_data=librosa.core.stft(wav_data, n_fft=512, hop_length=256, win_length=512, window='hann')\n",
    "            abslt=np.absolute(framed_data)**2\n",
    "            dft_signal=np.log10(abslt+1e-7*np.ones(np.shape(abslt)))\n",
    "            for i in range(m.floor(w/2)):\n",
    "                dft_signal=np.insert(dft_signal,0,0,axis = 1)\n",
    "            data_phase=np.angle(framed_data)   \n",
    "            print(str(filename2.replace('.wav','')))\n",
    "            np.savetxt(os.path.join(orig_path,log_folder,str(filename),str(filename2.replace('.wav','.txt'))), dft_signal.T, delimiter=',')\n",
    "            np.savetxt(os.path.join(orig_path,phase_folder,str(filename),str(filename2.replace('.wav','.txt'))), data_phase.T, delimiter=',')\n"
   ]
  },
  {
   "cell_type": "code",
   "execution_count": 20,
   "metadata": {},
   "outputs": [
    {
     "ename": "FileNotFoundError",
     "evalue": "[Errno 2] No such file or directory: 'test_log2\\\\0\\\\t2_bwba6a_m24_brax9p.txt'",
     "output_type": "error",
     "traceback": [
      "\u001b[1;31m---------------------------------------------------------------------------\u001b[0m",
      "\u001b[1;31mFileNotFoundError\u001b[0m                         Traceback (most recent call last)",
      "\u001b[1;32m<ipython-input-20-35f9e174e7cb>\u001b[0m in \u001b[0;36m<module>\u001b[1;34m()\u001b[0m\n\u001b[0;32m     18\u001b[0m             \u001b[0mdft_signal\u001b[0m\u001b[1;33m=\u001b[0m\u001b[0mnp\u001b[0m\u001b[1;33m.\u001b[0m\u001b[0mlog10\u001b[0m\u001b[1;33m(\u001b[0m\u001b[0mabslt\u001b[0m\u001b[1;33m+\u001b[0m\u001b[1;36m1e-7\u001b[0m\u001b[1;33m*\u001b[0m\u001b[0mnp\u001b[0m\u001b[1;33m.\u001b[0m\u001b[0mones\u001b[0m\u001b[1;33m(\u001b[0m\u001b[0mnp\u001b[0m\u001b[1;33m.\u001b[0m\u001b[0mshape\u001b[0m\u001b[1;33m(\u001b[0m\u001b[0mabslt\u001b[0m\u001b[1;33m)\u001b[0m\u001b[1;33m)\u001b[0m\u001b[1;33m)\u001b[0m\u001b[1;33m\u001b[0m\u001b[1;33m\u001b[0m\u001b[0m\n\u001b[0;32m     19\u001b[0m             \u001b[0mdata_phase\u001b[0m\u001b[1;33m=\u001b[0m\u001b[0mnp\u001b[0m\u001b[1;33m.\u001b[0m\u001b[0mangle\u001b[0m\u001b[1;33m(\u001b[0m\u001b[0mframed_data\u001b[0m\u001b[1;33m)\u001b[0m\u001b[1;33m\u001b[0m\u001b[1;33m\u001b[0m\u001b[0m\n\u001b[1;32m---> 20\u001b[1;33m             \u001b[0mnp\u001b[0m\u001b[1;33m.\u001b[0m\u001b[0msavetxt\u001b[0m\u001b[1;33m(\u001b[0m\u001b[0mos\u001b[0m\u001b[1;33m.\u001b[0m\u001b[0mpath\u001b[0m\u001b[1;33m.\u001b[0m\u001b[0mjoin\u001b[0m\u001b[1;33m(\u001b[0m\u001b[0mlog_folder\u001b[0m\u001b[1;33m,\u001b[0m\u001b[0mfilename\u001b[0m\u001b[1;33m,\u001b[0m\u001b[0mstr\u001b[0m\u001b[1;33m(\u001b[0m\u001b[0mfilename2\u001b[0m\u001b[1;33m.\u001b[0m\u001b[0mreplace\u001b[0m\u001b[1;33m(\u001b[0m\u001b[1;34m'.wav'\u001b[0m\u001b[1;33m,\u001b[0m\u001b[1;34m'.txt'\u001b[0m\u001b[1;33m)\u001b[0m\u001b[1;33m)\u001b[0m\u001b[1;33m)\u001b[0m\u001b[1;33m,\u001b[0m \u001b[0mdft_signal\u001b[0m\u001b[1;33m.\u001b[0m\u001b[0mT\u001b[0m\u001b[1;33m,\u001b[0m \u001b[0mdelimiter\u001b[0m\u001b[1;33m=\u001b[0m\u001b[1;34m','\u001b[0m\u001b[1;33m)\u001b[0m\u001b[1;33m\u001b[0m\u001b[1;33m\u001b[0m\u001b[0m\n\u001b[0m\u001b[0;32m     21\u001b[0m             \u001b[0mnp\u001b[0m\u001b[1;33m.\u001b[0m\u001b[0msavetxt\u001b[0m\u001b[1;33m(\u001b[0m\u001b[0mos\u001b[0m\u001b[1;33m.\u001b[0m\u001b[0mpath\u001b[0m\u001b[1;33m.\u001b[0m\u001b[0mjoin\u001b[0m\u001b[1;33m(\u001b[0m\u001b[0mphase_folder\u001b[0m \u001b[1;33m,\u001b[0m\u001b[0mfilename\u001b[0m\u001b[1;33m,\u001b[0m\u001b[0mstr\u001b[0m\u001b[1;33m(\u001b[0m\u001b[0mfilename2\u001b[0m\u001b[1;33m.\u001b[0m\u001b[0mreplace\u001b[0m\u001b[1;33m(\u001b[0m\u001b[1;34m'.wav'\u001b[0m\u001b[1;33m,\u001b[0m\u001b[1;34m'.txt'\u001b[0m\u001b[1;33m)\u001b[0m\u001b[1;33m)\u001b[0m\u001b[1;33m)\u001b[0m\u001b[1;33m,\u001b[0m \u001b[0mdata_phase\u001b[0m\u001b[1;33m.\u001b[0m\u001b[0mT\u001b[0m\u001b[1;33m,\u001b[0m \u001b[0mdelimiter\u001b[0m\u001b[1;33m=\u001b[0m\u001b[1;34m','\u001b[0m\u001b[1;33m)\u001b[0m\u001b[1;33m\u001b[0m\u001b[1;33m\u001b[0m\u001b[0m\n",
      "\u001b[1;32m~\\Anaconda3\\lib\\site-packages\\numpy\\lib\\npyio.py\u001b[0m in \u001b[0;36msavetxt\u001b[1;34m(fname, X, fmt, delimiter, newline, header, footer, comments, encoding)\u001b[0m\n\u001b[0;32m   1305\u001b[0m     \u001b[1;32mif\u001b[0m \u001b[0m_is_string_like\u001b[0m\u001b[1;33m(\u001b[0m\u001b[0mfname\u001b[0m\u001b[1;33m)\u001b[0m\u001b[1;33m:\u001b[0m\u001b[1;33m\u001b[0m\u001b[1;33m\u001b[0m\u001b[0m\n\u001b[0;32m   1306\u001b[0m         \u001b[1;31m# datasource doesn't support creating a new file ...\u001b[0m\u001b[1;33m\u001b[0m\u001b[1;33m\u001b[0m\u001b[1;33m\u001b[0m\u001b[0m\n\u001b[1;32m-> 1307\u001b[1;33m         \u001b[0mopen\u001b[0m\u001b[1;33m(\u001b[0m\u001b[0mfname\u001b[0m\u001b[1;33m,\u001b[0m \u001b[1;34m'wt'\u001b[0m\u001b[1;33m)\u001b[0m\u001b[1;33m.\u001b[0m\u001b[0mclose\u001b[0m\u001b[1;33m(\u001b[0m\u001b[1;33m)\u001b[0m\u001b[1;33m\u001b[0m\u001b[1;33m\u001b[0m\u001b[0m\n\u001b[0m\u001b[0;32m   1308\u001b[0m         \u001b[0mfh\u001b[0m \u001b[1;33m=\u001b[0m \u001b[0mnp\u001b[0m\u001b[1;33m.\u001b[0m\u001b[0mlib\u001b[0m\u001b[1;33m.\u001b[0m\u001b[0m_datasource\u001b[0m\u001b[1;33m.\u001b[0m\u001b[0mopen\u001b[0m\u001b[1;33m(\u001b[0m\u001b[0mfname\u001b[0m\u001b[1;33m,\u001b[0m \u001b[1;34m'wt'\u001b[0m\u001b[1;33m,\u001b[0m \u001b[0mencoding\u001b[0m\u001b[1;33m=\u001b[0m\u001b[0mencoding\u001b[0m\u001b[1;33m)\u001b[0m\u001b[1;33m\u001b[0m\u001b[1;33m\u001b[0m\u001b[0m\n\u001b[0;32m   1309\u001b[0m         \u001b[0mown_fh\u001b[0m \u001b[1;33m=\u001b[0m \u001b[1;32mTrue\u001b[0m\u001b[1;33m\u001b[0m\u001b[1;33m\u001b[0m\u001b[0m\n",
      "\u001b[1;31mFileNotFoundError\u001b[0m: [Errno 2] No such file or directory: 'test_log2\\\\0\\\\t2_bwba6a_m24_brax9p.txt'"
     ]
    }
   ],
   "source": [
    "raw_folder = 'sec_mixed2_6_test'\n",
    "log_folder = 'test_log2'\n",
    "phase_folder = 'test_phase2'\n",
    "a = os.listdir(os.path.join(orig_path,raw_folder))\n",
    "a = natsorted(a)\n",
    "for filename in a:\n",
    "    if filename!='clean':\n",
    "        b = os.listdir(os.path.join(orig_path,raw_folder,filename))\n",
    "        b = natsorted(b)\n",
    "        if not os.path.exists(os.path.join(orig_path,log_folder,filename)):\n",
    "            os.mkdir(os.path.join(orig_path,log_folder,filename))\n",
    "        if not os.path.exists(os.path.join(orig_path,phase_folder ,filename)):\n",
    "            os.mkdir(os.path.join(orig_path,phase_folder ,filename))\n",
    "        for filename2 in b:\n",
    "            wav_data, sr = librosa.load(os.path.join(orig_path,raw_folder,filename,filename2), sr=16000) \n",
    "            framed_data=librosa.core.stft(wav_data, n_fft=512, hop_length=256, win_length=512, window='hann')\n",
    "            abslt=np.absolute(framed_data)**2\n",
    "            dft_signal=np.log10(abslt+1e-7*np.ones(np.shape(abslt)))\n",
    "            data_phase=np.angle(framed_data)    \n",
    "            np.savetxt(os.path.join(orig_path,log_folder,filename,str(filename2.replace('.wav','.txt'))), dft_signal.T, delimiter=',')\n",
    "            np.savetxt(os.path.join(orig_path,phase_folder ,filename,str(filename2.replace('.wav','.txt'))), data_phase.T, delimiter=',')"
   ]
  },
  {
   "cell_type": "code",
   "execution_count": 8,
   "metadata": {},
   "outputs": [],
   "source": [
    "raw_folder = 'sec_mixed2_6_test'\n",
    "log_folder = 'test_log'\n",
    "phase_folder = 'test_phase'\n",
    "a = os.listdir(os.path.join(orig_path,raw_folder))\n",
    "a = natsorted(a)\n",
    "for filename in a:\n",
    "    if filename=='clean':\n",
    "        b = os.listdir(os.path.join(orig_path,raw_folder,filename))\n",
    "        b = natsorted(b)\n",
    "        if not os.path.exists(os.path.join(orig_path,log_folder,filename)):\n",
    "            os.mkdir(os.path.join(orig_path,log_folder,filename))\n",
    "        for filename2 in b:\n",
    "            wav_data, sr = librosa.load(os.path.join(orig_path,raw_folder,filename,filename2), sr=16000)   \n",
    "            np.savetxt(os.path.join(orig_path,log_folder,str(filename),str(filename2.replace('.wav','.txt'))), wav_data, delimiter=',')\n"
   ]
  },
  {
   "cell_type": "code",
   "execution_count": 8,
   "metadata": {},
   "outputs": [],
   "source": [
    "raw_folder = 'sec_mixed2_6_test'\n",
    "clean_filename = 'clean_data'\n",
    "a = os.listdir(os.path.join(orig_path,raw_folder))\n",
    "a = natsorted(a)\n",
    "clean=[]\n",
    "f = h5py.File(clean_filename+'.hdf5', 'w')\n",
    "d = f.create_dataset(clean_filename, (0,257),maxshape=(None,257), dtype='f', chunks=True)\n",
    "for filename in a:\n",
    "    if filename=='clean':\n",
    "        b = os.listdir(os.path.join(orig_path,raw_folder,filename))\n",
    "        b = natsorted(b)\n",
    "        for i in range(len(a)-1):\n",
    "            for filename2 in b:\n",
    "                wav_data, sr = librosa.load(os.path.join(orig_path,raw_folder,filename,filename2), sr=16000)   \n",
    "                framed_data=librosa.core.stft(wav_data, n_fft=512, hop_length=256, win_length=512, window='hann')\n",
    "                abslt=np.absolute(framed_data)**2\n",
    "                dft_signal=np.log10(abslt+1e-7*np.ones(np.shape(abslt)))\n",
    "#                 clean.append(dft_signal.T)\n",
    "                d.resize(d.shape[0]+dft_signal.shape[1], axis=0)   \n",
    "                d[-1*dft_signal.shape[1]:] = dft_signal.T\n",
    "f.close()\n",
    "# x=1\n",
    "# hf = h5py.File('clean_data.h5', 'w')\n",
    "# hf.create_dataset('clean_data', data=x)\n",
    "# hf.close()"
   ]
  },
  {
   "cell_type": "code",
   "execution_count": null,
   "metadata": {},
   "outputs": [],
   "source": [
    "import h5py\n",
    "h5f = h5py.File('ftr_refrmd_test.hdf5','r')\n",
    "x = h5f['ftr_refrmd_test']\n",
    "h5f.close()\n",
    "x.shape"
   ]
  },
  {
   "cell_type": "code",
   "execution_count": 16,
   "metadata": {},
   "outputs": [
    {
     "ename": "NameError",
     "evalue": "name 'b' is not defined",
     "output_type": "error",
     "traceback": [
      "\u001b[1;31m---------------------------------------------------------------------------\u001b[0m",
      "\u001b[1;31mNameError\u001b[0m                                 Traceback (most recent call last)",
      "\u001b[1;32m<ipython-input-16-467b31b0e146>\u001b[0m in \u001b[0;36m<module>\u001b[1;34m()\u001b[0m\n\u001b[0;32m     17\u001b[0m \u001b[1;32mfor\u001b[0m \u001b[0mfilename\u001b[0m \u001b[1;32min\u001b[0m \u001b[0ma\u001b[0m\u001b[1;33m:\u001b[0m\u001b[1;33m\u001b[0m\u001b[1;33m\u001b[0m\u001b[0m\n\u001b[0;32m     18\u001b[0m     \u001b[1;32mif\u001b[0m \u001b[0mfilename\u001b[0m\u001b[1;33m!=\u001b[0m\u001b[1;34m'clean'\u001b[0m\u001b[1;33m:\u001b[0m\u001b[1;33m\u001b[0m\u001b[1;33m\u001b[0m\u001b[0m\n\u001b[1;32m---> 19\u001b[1;33m         \u001b[0mb\u001b[0m \u001b[1;33m=\u001b[0m \u001b[0mnatsorted\u001b[0m\u001b[1;33m(\u001b[0m\u001b[0mb\u001b[0m\u001b[1;33m)\u001b[0m\u001b[1;33m\u001b[0m\u001b[1;33m\u001b[0m\u001b[0m\n\u001b[0m\u001b[0;32m     20\u001b[0m         \u001b[0mb\u001b[0m \u001b[1;33m=\u001b[0m \u001b[0mos\u001b[0m\u001b[1;33m.\u001b[0m\u001b[0mlistdir\u001b[0m\u001b[1;33m(\u001b[0m\u001b[0mos\u001b[0m\u001b[1;33m.\u001b[0m\u001b[0mpath\u001b[0m\u001b[1;33m.\u001b[0m\u001b[0mjoin\u001b[0m\u001b[1;33m(\u001b[0m\u001b[0morig_path\u001b[0m\u001b[1;33m,\u001b[0m\u001b[0mlog_folder\u001b[0m\u001b[1;33m,\u001b[0m\u001b[0mfilename\u001b[0m\u001b[1;33m)\u001b[0m\u001b[1;33m)\u001b[0m\u001b[1;33m\u001b[0m\u001b[1;33m\u001b[0m\u001b[0m\n\u001b[0;32m     21\u001b[0m         \u001b[1;32mif\u001b[0m \u001b[1;32mnot\u001b[0m \u001b[0mos\u001b[0m\u001b[1;33m.\u001b[0m\u001b[0mpath\u001b[0m\u001b[1;33m.\u001b[0m\u001b[0mexists\u001b[0m\u001b[1;33m(\u001b[0m\u001b[0mos\u001b[0m\u001b[1;33m.\u001b[0m\u001b[0mpath\u001b[0m\u001b[1;33m.\u001b[0m\u001b[0mjoin\u001b[0m\u001b[1;33m(\u001b[0m\u001b[0morig_path\u001b[0m\u001b[1;33m,\u001b[0m\u001b[0mrefrmd_file\u001b[0m\u001b[1;33m,\u001b[0m\u001b[0mfilename\u001b[0m\u001b[1;33m)\u001b[0m\u001b[1;33m)\u001b[0m\u001b[1;33m:\u001b[0m\u001b[1;33m\u001b[0m\u001b[1;33m\u001b[0m\u001b[0m\n",
      "\u001b[1;31mNameError\u001b[0m: name 'b' is not defined"
     ]
    }
   ],
   "source": [
    "import math as m\n",
    "import numpy as np\n",
    "import h5py\n",
    "w = 3\n",
    "i = 1\n",
    "refrmd_file = 'ftr_refrmd_test'\n",
    "log_folder = 'test_log'\n",
    "phase_folder = 'test_phase'\n",
    "# tot_mean=np.loadtxt('mean.txt')\n",
    "# tot_std=np.loadtxt('std.txt')\n",
    "a = os.listdir(os.path.join(orig_path,log_folder))\n",
    "a = natsorted(a)\n",
    "# f.close()\n",
    "f = h5py.File(refrmd_file+'.hdf5', 'w')\n",
    "d = f.create_dataset(refrmd_file, (0,257*w),maxshape=(None,257*w), dtype='f', chunks=True)\n",
    "ftr_refrmd=[]\n",
    "for filename in a:\n",
    "    if filename!='clean':\n",
    "        b = natsorted(b)\n",
    "        b = os.listdir(os.path.join(orig_path,log_folder,filename))\n",
    "        if not os.path.exists(os.path.join(orig_path,refrmd_file,filename)):\n",
    "            os.mkdir(os.path.join(orig_path,refrmd_file,filename))\n",
    "        for filename2 in b:\n",
    "            ftr=np.loadtxt(os.path.join(orig_path,log_folder,filename,filename2),delimiter=',')\n",
    "#             ftr_refrmd=[]\n",
    "            for i in range(m.floor(w/2)):\n",
    "                p=-m.floor(w/2)\n",
    "                temp = []\n",
    "                for j in range(w):\n",
    "                    if np.all(ftr[i]==0):\n",
    "                        break\n",
    "                    temp.extend(ftr[i+p+j])\n",
    "                if np.any(temp!=[]):\n",
    "                    ftr_refrmd.append(temp)\n",
    "            for i in range(m.floor(w/2),ftr.shape[0]-m.floor(w/2)-1):\n",
    "                k=-m.floor(w/2)\n",
    "                temp = []\n",
    "                for j in range(w):\n",
    "                    if np.all(ftr[i]==0):\n",
    "                        break\n",
    "                    temp.extend(ftr[i+k])\n",
    "                    k=k+1\n",
    "                if np.any(temp!=[]):\n",
    "                    ftr_refrmd.append(temp)\n",
    "                if i%1000==0:\n",
    "                    print(i)\n",
    "            for i in range(ftr.shape[0]-m.floor(w/2)-1,ftr.shape[0]):\n",
    "                p=-m.floor(w/2)\n",
    "                temp = []\n",
    "                for j in range(w):\n",
    "                    if np.all(ftr[i]==0):\n",
    "                        break\n",
    "                    if j>m.floor(w/2)+(ftr.shape[0]-i)-1:\n",
    "                        temp.extend(np.zeros(ftr[ftr.shape[0]-1].shape))\n",
    "                    else:\n",
    "                        temp.extend(ftr[i+p+j])\n",
    "                if np.any(temp!=[]):\n",
    "                    ftr_refrmd.append(temp)\n",
    "            print(len(ftr_refrmd[0]))\n",
    "#             ftr_refrmd=(ftr_refrmd-tot_mean)/tot_std\n",
    "#             np.savetxt(os.path.join(refrmd_file,str(filename),str(filename2.replace('.wav','.txt'))), ftr_refrmd, delimiter=',')\n",
    "            \n",
    "d.resize(d.shape[0]+len(ftr_refrmd), axis=0)   \n",
    "d[-1*len(ftr_refrmd):] = ftr_refrmd\n",
    "ftr_refrmd=[]\n",
    "f.close()"
   ]
  },
  {
   "cell_type": "code",
   "execution_count": 15,
   "metadata": {},
   "outputs": [
    {
     "ename": "NameError",
     "evalue": "name 'ftr' is not defined",
     "output_type": "error",
     "traceback": [
      "\u001b[1;31m---------------------------------------------------------------------------\u001b[0m",
      "\u001b[1;31mNameError\u001b[0m                                 Traceback (most recent call last)",
      "\u001b[1;32m<ipython-input-15-e46e898ce63e>\u001b[0m in \u001b[0;36m<module>\u001b[1;34m()\u001b[0m\n\u001b[1;32m----> 1\u001b[1;33m \u001b[0mftr\u001b[0m\u001b[1;33m[\u001b[0m\u001b[0mi\u001b[0m\u001b[1;33m+\u001b[0m\u001b[0mp\u001b[0m\u001b[1;33m+\u001b[0m\u001b[0mj\u001b[0m\u001b[1;33m]\u001b[0m\u001b[1;33m\u001b[0m\u001b[1;33m\u001b[0m\u001b[0m\n\u001b[0m",
      "\u001b[1;31mNameError\u001b[0m: name 'ftr' is not defined"
     ]
    }
   ],
   "source": [
    "ftr[i+p+j]\n"
   ]
  },
  {
   "cell_type": "code",
   "execution_count": 21,
   "metadata": {},
   "outputs": [
    {
     "data": {
      "text/plain": [
       "13692"
      ]
     },
     "execution_count": 21,
     "metadata": {},
     "output_type": "execute_result"
    }
   ],
   "source": [
    "len(ftr_refrmd)"
   ]
  },
  {
   "cell_type": "code",
   "execution_count": 1,
   "metadata": {},
   "outputs": [
    {
     "ename": "NameError",
     "evalue": "name 'h5py' is not defined",
     "output_type": "error",
     "traceback": [
      "\u001b[1;31m---------------------------------------------------------------------------\u001b[0m",
      "\u001b[1;31mNameError\u001b[0m                                 Traceback (most recent call last)",
      "\u001b[1;32m<ipython-input-1-db37f775febe>\u001b[0m in \u001b[0;36m<module>\u001b[1;34m()\u001b[0m\n\u001b[1;32m----> 1\u001b[1;33m \u001b[0mh5f\u001b[0m \u001b[1;33m=\u001b[0m \u001b[0mh5py\u001b[0m\u001b[1;33m.\u001b[0m\u001b[0mFile\u001b[0m\u001b[1;33m(\u001b[0m\u001b[1;34m'ftr_refrmd_test.hdf5'\u001b[0m\u001b[1;33m,\u001b[0m\u001b[1;34m'r'\u001b[0m\u001b[1;33m)\u001b[0m\u001b[1;33m\u001b[0m\u001b[0m\n\u001b[0m\u001b[0;32m      2\u001b[0m \u001b[0mx\u001b[0m \u001b[1;33m=\u001b[0m \u001b[0mh5f\u001b[0m\u001b[1;33m[\u001b[0m\u001b[1;34m'ftr_refrmd_test'\u001b[0m\u001b[1;33m]\u001b[0m\u001b[1;33m[\u001b[0m\u001b[1;36m0\u001b[0m\u001b[1;33m:\u001b[0m\u001b[1;33m]\u001b[0m\u001b[1;33m\u001b[0m\u001b[0m\n\u001b[0;32m      3\u001b[0m \u001b[0mh5f\u001b[0m\u001b[1;33m.\u001b[0m\u001b[0mclose\u001b[0m\u001b[1;33m(\u001b[0m\u001b[1;33m)\u001b[0m\u001b[1;33m\u001b[0m\u001b[0m\n\u001b[0;32m      4\u001b[0m \u001b[0mx\u001b[0m\u001b[1;33m.\u001b[0m\u001b[0mshape\u001b[0m\u001b[1;33m\u001b[0m\u001b[0m\n\u001b[0;32m      5\u001b[0m \u001b[1;33m\u001b[0m\u001b[0m\n",
      "\u001b[1;31mNameError\u001b[0m: name 'h5py' is not defined"
     ]
    }
   ],
   "source": [
    "h5f = h5py.File('ftr_refrmd_test.hdf5','r')\n",
    "x = h5f['ftr_refrmd_test'][0:]\n",
    "h5f.close()\n",
    "x.shape\n",
    "\n"
   ]
  },
  {
   "cell_type": "code",
   "execution_count": 14,
   "metadata": {},
   "outputs": [
    {
     "data": {
      "text/plain": [
       "771"
      ]
     },
     "execution_count": 14,
     "metadata": {},
     "output_type": "execute_result"
    }
   ],
   "source": [
    "len(ftr_refrmd[0])"
   ]
  },
  {
   "cell_type": "code",
   "execution_count": 4,
   "metadata": {},
   "outputs": [
    {
     "ename": "NameError",
     "evalue": "name 'f' is not defined",
     "output_type": "error",
     "traceback": [
      "\u001b[1;31m---------------------------------------------------------------------------\u001b[0m",
      "\u001b[1;31mNameError\u001b[0m                                 Traceback (most recent call last)",
      "\u001b[1;32m<ipython-input-4-b5edb7b78a9a>\u001b[0m in \u001b[0;36m<module>\u001b[1;34m()\u001b[0m\n\u001b[1;32m----> 1\u001b[1;33m \u001b[0mf\u001b[0m\u001b[1;33m.\u001b[0m\u001b[0mclose\u001b[0m\u001b[1;33m(\u001b[0m\u001b[1;33m)\u001b[0m\u001b[1;33m\u001b[0m\u001b[1;33m\u001b[0m\u001b[0m\n\u001b[0m",
      "\u001b[1;31mNameError\u001b[0m: name 'f' is not defined"
     ]
    }
   ],
   "source": [
    "f.close()"
   ]
  },
  {
   "cell_type": "code",
   "execution_count": null,
   "metadata": {},
   "outputs": [],
   "source": []
  }
 ],
 "metadata": {
  "kernelspec": {
   "display_name": "Python 3",
   "language": "python",
   "name": "python3"
  },
  "language_info": {
   "codemirror_mode": {
    "name": "ipython",
    "version": 3
   },
   "file_extension": ".py",
   "mimetype": "text/x-python",
   "name": "python",
   "nbconvert_exporter": "python",
   "pygments_lexer": "ipython3",
   "version": "3.6.7"
  }
 },
 "nbformat": 4,
 "nbformat_minor": 2
}
