{
 "cells": [
  {
   "cell_type": "code",
   "execution_count": 1,
   "metadata": {},
   "outputs": [],
   "source": [
    "import numpy as np\n",
    "import os\n",
    "from tensorflow.keras.models import model_from_json\n",
    "from pystoi.stoi import stoi\n",
    "import mir_eval #https://github.com/craffel/mir_eval\n",
    "import librosa\n",
    "import tensorflow as tf\n",
    "# import keras\n",
    "from scipy.io import wavfile\n",
    "# from pypesq import pesq #https://github.com/vBaiCai/python-pesq\n",
    "# import vqmetrics\n",
    "from natsort import natsorted\n",
    "from tensorflow.keras.models import load_model\n",
    "from sklearn import preprocessing\n",
    "import matplotlib.pyplot as plt\n",
    "import pylab \n",
    "import soundfile as sf\n"
   ]
  },
  {
   "cell_type": "code",
   "execution_count": 2,
   "metadata": {},
   "outputs": [],
   "source": [
    "#define reconstruct function to reconstruct sound from framed signal.\n",
    "def reconstruct(wave,angle):\n",
    "    recon = np.sqrt(np.power(10, wave))\n",
    "    recon1 = recon*np.cos(angle)+recon*np.sin(angle)*1j\n",
    "    recon = librosa.core.istft((recon1.T), hop_length=256, win_length=512, window='hann')\n",
    "    return recon\n",
    "def change_order(first):\n",
    "    sec=np.copy(first)\n",
    "    sec=np.copy(first)\n",
    "    sec[0] = first[5]\n",
    "    sec[1] = first[4]\n",
    "    sec[2] = first[3]\n",
    "    sec[5] = first[2]\n",
    "    sec[4] = first[1]\n",
    "    sec[3] = first[0]\n",
    "    return sec"
   ]
  },
  {
   "cell_type": "code",
   "execution_count": 4,
   "metadata": {
    "scrolled": true
   },
   "outputs": [
    {
     "name": "stdout",
     "output_type": "stream",
     "text": [
      "Loaded model from disk\n",
      "57\n"
     ]
    }
   ],
   "source": [
    "model_num= 57\n",
    "ckpt_num= '03'\n",
    "import tensorflow as tf\n",
    "import os\n",
    "\n",
    "Data_path = 'D:/studies/university/thesis/speech_separation_codes/du16/donesomestuff'\n",
    "foldername = 'results_'+str(model_num)+'_test'\n",
    "json_file = open(os.path.normpath(os.path.join(Data_path,'models','model_'+str(model_num)+'.json')),'r')\n",
    "loaded_model_json = json_file.read()\n",
    "json_file.close()\n",
    "loaded_model = tf.keras.models.model_from_json(loaded_model_json)\n",
    "# load weights into new model\n",
    "loaded_model.load_weights(os.path.normpath(os.path.join(Data_path,'models','model_'+str(model_num)+'.h5')))\n",
    "print(\"Loaded model from disk\")\n",
    "print(model_num)\n",
    "\n",
    "Data_path = 'D:/studies/university/thesis/speech_separation_codes/du16/donesomestuff'\n",
    "write_path = 'D:/studies/university/thesis/speech_separation_codes/du16/donesomestuff/test_data2'\n",
    "test_files_path = 'D:/studies/university/thesis/speech_separation_codes/du16/donesomestuff/test_16000_t1_2'\n",
    "parent = 'results'\n",
    "input_test = 'ftr_refrmd_test_w7_norm_withtrain'\n",
    "# input_test = 'test_log2_norm_withtrain'\n",
    "image = 'images'\n",
    "inputs = os.listdir(os.path.normpath(os.path.join(write_path,input_test)))\n",
    "inputs = natsorted(inputs)\n",
    "phase = os.listdir(os.path.join(write_path,'test_phase2'))\n",
    "phase = natsorted(phase)\n",
    "if not os.path.exists(os.path.join(Data_path,parent,foldername)):\n",
    "    os.makedirs(os.path.join(Data_path,parent,foldername))\n",
    "for snr_input,snr_phase in zip(inputs,phase):\n",
    "    a = os.listdir(os.path.join(write_path,input_test,snr_input))\n",
    "    b = os.listdir(os.path.join(write_path,'test_phase2',snr_phase))\n",
    "    if not os.path.exists(os.path.join(Data_path,parent,foldername,snr_input)):\n",
    "        os.mkdir(os.path.join(Data_path,parent,foldername,snr_input))\n",
    "    for filename_input,filename_phase in zip(a,b):\n",
    "        X_log=np.loadtxt(os.path.join(write_path,input_test,snr_input,filename_input),delimiter=',')\n",
    "        X_phase=np.loadtxt(os.path.join(write_path,'test_phase2',snr_phase,filename_phase),delimiter=',')\n",
    "        prediction = loaded_model.predict(X_log)\n",
    "        recon_out = reconstruct(prediction, X_phase)\n",
    "        sf.write(os.path.normpath(os.path.join(Data_path,parent,foldername,snr_input)+'\\\\'+filename_input.replace('.txt','')+'.wav'),recon_out,16000)\n"
   ]
  },
  {
   "cell_type": "code",
   "execution_count": 21,
   "metadata": {},
   "outputs": [
    {
     "name": "stdout",
     "output_type": "stream",
     "text": [
      "Loaded model from disk\n",
      "44\n",
      "Loaded model from disk\n",
      "45\n",
      "Loaded model from disk\n",
      "46\n",
      "Loaded model from disk\n",
      "47\n",
      "Loaded model from disk\n",
      "48\n",
      "Loaded model from disk\n",
      "49\n",
      "Loaded model from disk\n",
      "50\n",
      "Loaded model from disk\n",
      "51\n",
      "Loaded model from disk\n",
      "52\n"
     ]
    }
   ],
   "source": [
    "for model_num in range(44,53):\n",
    "    import tensorflow as tf\n",
    "    import os\n",
    "\n",
    "    Data_path = 'D:/studies/university/thesis/speech_separation_codes/du16/donesomestuff'\n",
    "    foldername = 'results_'+str(model_num)+'_test'\n",
    "    json_file = open(os.path.normpath(os.path.join(Data_path,'models','model_'+str(model_num)+'.json')),'r')\n",
    "    loaded_model_json = json_file.read()\n",
    "    json_file.close()\n",
    "    loaded_model = tf.keras.models.model_from_json(loaded_model_json)\n",
    "    # load weights into new model\n",
    "    loaded_model.load_weights(os.path.normpath(os.path.join(Data_path,'models','model_'+str(model_num)+'.h5')))\n",
    "    print(\"Loaded model from disk\")\n",
    "    print(model_num)\n",
    "\n",
    "    Data_path = 'D:/studies/university/thesis/speech_separation_codes/du16/donesomestuff'\n",
    "    write_path = 'D:/studies/university/thesis/speech_separation_codes/du16/donesomestuff/test_data2'\n",
    "    test_files_path = 'D:/studies/university/thesis/speech_separation_codes/du16/donesomestuff/test_16000_t1_2'\n",
    "    parent = 'results'\n",
    "#     input_test = 'ftr_refrmd_test_w7_norm_withtrain'\n",
    "    input_test = 'test_log2_norm_withtrain'\n",
    "    image = 'images'\n",
    "    inputs = os.listdir(os.path.normpath(os.path.join(write_path,input_test)))\n",
    "    inputs = natsorted(inputs)\n",
    "    phase = os.listdir(os.path.join(write_path,'test_phase2'))\n",
    "    phase = natsorted(phase)\n",
    "    if not os.path.exists(os.path.join(Data_path,parent,foldername)):\n",
    "        os.makedirs(os.path.join(Data_path,parent,foldername))\n",
    "    for snr_input,snr_phase in zip(inputs,phase):\n",
    "        a = os.listdir(os.path.join(write_path,input_test,snr_input))\n",
    "        b = os.listdir(os.path.join(write_path,'test_phase2',snr_phase))\n",
    "        if not os.path.exists(os.path.join(Data_path,parent,foldername,snr_input)):\n",
    "            os.mkdir(os.path.join(Data_path,parent,foldername,snr_input))\n",
    "        for filename_input,filename_phase in zip(a,b):\n",
    "            X_log=np.loadtxt(os.path.join(write_path,input_test,snr_input,filename_input),delimiter=',')\n",
    "            X_phase=np.loadtxt(os.path.join(write_path,'test_phase2',snr_phase,filename_phase),delimiter=',')\n",
    "            prediction = loaded_model.predict(X_log)\n",
    "            recon_out = reconstruct(prediction, X_phase)\n",
    "            sf.write(os.path.normpath(os.path.join(Data_path,parent,foldername,snr_input)+'\\\\'+filename_input.replace('.txt','')+'.wav'),recon_out,16000)\n"
   ]
  },
  {
   "cell_type": "code",
   "execution_count": null,
   "metadata": {},
   "outputs": [],
   "source": []
  }
 ],
 "metadata": {
  "kernelspec": {
   "display_name": "Python (myenv)",
   "language": "python",
   "name": "myenv"
  },
  "language_info": {
   "codemirror_mode": {
    "name": "ipython",
    "version": 3
   },
   "file_extension": ".py",
   "mimetype": "text/x-python",
   "name": "python",
   "nbconvert_exporter": "python",
   "pygments_lexer": "ipython3",
   "version": "3.6.4"
  }
 },
 "nbformat": 4,
 "nbformat_minor": 2
}
