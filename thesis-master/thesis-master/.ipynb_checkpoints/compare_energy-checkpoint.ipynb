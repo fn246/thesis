{
 "cells": [
  {
   "cell_type": "code",
   "execution_count": 12,
   "metadata": {},
   "outputs": [
    {
     "name": "stdout",
     "output_type": "stream",
     "text": [
      "[2.56e+08 2.56e+08 2.56e+08 ... 2.56e+08 2.56e+08 2.56e+08]\n",
      "[2.56e+08 2.56e+08 2.56e+08 ... 2.56e+08 2.56e+08 2.56e+08]\n"
     ]
    }
   ],
   "source": [
    "import librosa\n",
    "import numpy as np\n",
    "x=librosa.load('D:/studies/university/thesis/speech_separation_codes/du16/donesomestuff/lilmixed/mixed_bbaf3p_1_0_lgaz7s_1_160.wav', sr=16000) \n",
    "print(np.sum(np.power(x,2)))\n",
    "y=librosa.load('D:/studies/university/thesis/speech_separation_codes/du16/donesomestuff/single_dataset_16/2/bbaf3p.wav', sr=16000) \n",
    "print(np.sum(np.power(y,2)))"
   ]
  },
  {
   "cell_type": "code",
   "execution_count": 8,
   "metadata": {},
   "outputs": [
    {
     "data": {
      "text/plain": [
       "6"
      ]
     },
     "execution_count": 8,
     "metadata": {},
     "output_type": "execute_result"
    }
   ],
   "source": [
    "x=[1,2,3]\n",
    "np.sum(x)"
   ]
  },
  {
   "cell_type": "code",
   "execution_count": null,
   "metadata": {},
   "outputs": [],
   "source": []
  }
 ],
 "metadata": {
  "kernelspec": {
   "display_name": "Python (myenv)",
   "language": "python",
   "name": "myenv"
  },
  "language_info": {
   "codemirror_mode": {
    "name": "ipython",
    "version": 3
   },
   "file_extension": ".py",
   "mimetype": "text/x-python",
   "name": "python",
   "nbconvert_exporter": "python",
   "pygments_lexer": "ipython3",
   "version": "3.6.4"
  }
 },
 "nbformat": 4,
 "nbformat_minor": 2
}
