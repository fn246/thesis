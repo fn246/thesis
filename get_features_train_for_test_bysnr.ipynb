{
 "cells": [
  {
   "cell_type": "code",
   "execution_count": 15,
   "metadata": {},
   "outputs": [],
   "source": [
    "import librosa\n",
    "import sounddevice as sd\n",
    "from pystoi.stoi import stoi\n",
    "from librosa.core import stft, istft\n",
    "import os\n",
    "import h5py\n",
    "from natsort import natsorted\n",
    "import numpy as np\n",
    "import math as m"
   ]
  },
  {
   "cell_type": "code",
   "execution_count": 4,
   "metadata": {},
   "outputs": [],
   "source": [
    "import math as m"
   ]
  },
  {
   "cell_type": "code",
   "execution_count": 7,
   "metadata": {},
   "outputs": [],
   "source": [
    "orig_path = 'D:/studies/university/thesis/speech_separation_codes/du16/donesomestuff'\n",
    "write_path = 'D:/studies/university/thesis/speech_separation_codes/du16/donesomestuff/train_for_test'\n",
    "Data_path = 'D:/studies/university/thesis/speech_separation_codes/du16/donesomestuff/10hdata'\n",
    "i = 1\n",
    "w = 3\n",
    "data = os.listdir(os.path.normpath(os.path.join(Data_path,'mixed_10h_bysnr')))\n",
    "data = natsorted(data)"
   ]
  },
  {
   "cell_type": "code",
   "execution_count": 8,
   "metadata": {},
   "outputs": [
    {
     "data": {
      "text/plain": [
       "['0', '3', '6', 'm3', 'm6', 'm9']"
      ]
     },
     "execution_count": 8,
     "metadata": {},
     "output_type": "execute_result"
    }
   ],
   "source": [
    "data"
   ]
  },
  {
   "cell_type": "code",
   "execution_count": 11,
   "metadata": {},
   "outputs": [
    {
     "name": "stdout",
     "output_type": "stream",
     "text": [
      "mixed_bbaf3p_sgac4p\n",
      "mixed_bbaf3p_srbr8p\n",
      "mixed_bbaf4a_sgac4p\n",
      "mixed_bbaf4a_srbr8p\n",
      "mixed_bbal5n_sgac4p\n",
      "mixed_bbal5n_srbr8p\n",
      "mixed_bbal6s_sgac4p\n",
      "mixed_bbal6s_srbr8p\n",
      "mixed_bbas2a_sgac4p\n",
      "mixed_bbas2a_srbr8p\n",
      "mixed_bbaszs_sgac4p\n",
      "mixed_bbaszs_srbr8p\n",
      "mixed_bbaz5p_sgac4p\n",
      "mixed_bbaz5p_srbr8p\n",
      "mixed_bbaz6a_sgac4p\n",
      "mixed_bbaz6a_srbr8p\n",
      "mixed_bbbf5n_sgac4p\n",
      "mixed_bbbf5n_srbr8p\n",
      "mixed_bbbl9n_sgac4p\n",
      "mixed_bbbl9n_srbr8p\n",
      "mixed_bbaf3p_sgac4p\n",
      "mixed_bbaf3p_srbr8p\n",
      "mixed_bbaf4a_sgac4p\n",
      "mixed_bbaf4a_srbr8p\n",
      "mixed_bbal5n_sgac4p\n",
      "mixed_bbal5n_srbr8p\n",
      "mixed_bbal6s_sgac4p\n",
      "mixed_bbal6s_srbr8p\n",
      "mixed_bbas2a_sgac4p\n",
      "mixed_bbas2a_srbr8p\n",
      "mixed_bbaszs_sgac4p\n",
      "mixed_bbaszs_srbr8p\n",
      "mixed_bbaz5p_sgac4p\n",
      "mixed_bbaz5p_srbr8p\n",
      "mixed_bbaz6a_sgac4p\n",
      "mixed_bbaz6a_srbr8p\n",
      "mixed_bbbf5n_sgac4p\n",
      "mixed_bbbf5n_srbr8p\n",
      "mixed_bbbl9n_sgac4p\n",
      "mixed_bbbl9n_srbr8p\n",
      "mixed_bbaf3p_sgac4p\n",
      "mixed_bbaf3p_srbr8p\n",
      "mixed_bbaf4a_sgac4p\n",
      "mixed_bbaf4a_srbr8p\n",
      "mixed_bbal5n_sgac4p\n",
      "mixed_bbal5n_srbr8p\n",
      "mixed_bbal6s_sgac4p\n",
      "mixed_bbal6s_srbr8p\n",
      "mixed_bbas2a_sgac4p\n",
      "mixed_bbas2a_srbr8p\n",
      "mixed_bbaszs_sgac4p\n",
      "mixed_bbaszs_srbr8p\n",
      "mixed_bbaz5p_sgac4p\n",
      "mixed_bbaz5p_srbr8p\n",
      "mixed_bbaz6a_sgac4p\n",
      "mixed_bbaz6a_srbr8p\n",
      "mixed_bbbf5n_sgac4p\n",
      "mixed_bbbf5n_srbr8p\n",
      "mixed_bbbl9n_sgac4p\n",
      "mixed_bbbl9n_srbr8p\n",
      "mixed_bbaf3p_sgac4p\n",
      "mixed_bbaf3p_srbr8p\n",
      "mixed_bbaf4a_sgac4p\n",
      "mixed_bbaf4a_srbr8p\n",
      "mixed_bbal5n_sgac4p\n",
      "mixed_bbal5n_srbr8p\n",
      "mixed_bbal6s_sgac4p\n",
      "mixed_bbal6s_srbr8p\n",
      "mixed_bbas2a_sgac4p\n",
      "mixed_bbas2a_srbr8p\n",
      "mixed_bbaszs_sgac4p\n",
      "mixed_bbaszs_srbr8p\n",
      "mixed_bbaz5p_sgac4p\n",
      "mixed_bbaz5p_srbr8p\n",
      "mixed_bbaz6a_sgac4p\n",
      "mixed_bbaz6a_srbr8p\n",
      "mixed_bbbf5n_sgac4p\n",
      "mixed_bbbf5n_srbr8p\n",
      "mixed_bbbl9n_sgac4p\n",
      "mixed_bbbl9n_srbr8p\n",
      "mixed_bbaf3p_sgac4p\n",
      "mixed_bbaf3p_srbr8p\n",
      "mixed_bbaf4a_sgac4p\n",
      "mixed_bbaf4a_srbr8p\n",
      "mixed_bbal5n_sgac4p\n",
      "mixed_bbal5n_srbr8p\n",
      "mixed_bbal6s_sgac4p\n",
      "mixed_bbal6s_srbr8p\n",
      "mixed_bbas2a_sgac4p\n",
      "mixed_bbas2a_srbr8p\n",
      "mixed_bbaszs_sgac4p\n",
      "mixed_bbaszs_srbr8p\n",
      "mixed_bbaz5p_sgac4p\n",
      "mixed_bbaz5p_srbr8p\n",
      "mixed_bbaz6a_sgac4p\n",
      "mixed_bbaz6a_srbr8p\n",
      "mixed_bbbf5n_sgac4p\n",
      "mixed_bbbf5n_srbr8p\n",
      "mixed_bbbl9n_sgac4p\n",
      "mixed_bbbl9n_srbr8p\n",
      "mixed_bbaf3p_sgac4p\n",
      "mixed_bbaf3p_srbr8p\n",
      "mixed_bbaf4a_sgac4p\n",
      "mixed_bbaf4a_srbr8p\n",
      "mixed_bbal5n_sgac4p\n",
      "mixed_bbal5n_srbr8p\n",
      "mixed_bbal6s_sgac4p\n",
      "mixed_bbal6s_srbr8p\n",
      "mixed_bbas2a_sgac4p\n",
      "mixed_bbas2a_srbr8p\n",
      "mixed_bbaszs_sgac4p\n",
      "mixed_bbaszs_srbr8p\n",
      "mixed_bbaz5p_sgac4p\n",
      "mixed_bbaz5p_srbr8p\n",
      "mixed_bbaz6a_sgac4p\n",
      "mixed_bbaz6a_srbr8p\n",
      "mixed_bbbf5n_sgac4p\n",
      "mixed_bbbf5n_srbr8p\n",
      "mixed_bbbl9n_sgac4p\n",
      "mixed_bbbl9n_srbr8p\n"
     ]
    }
   ],
   "source": [
    "raw_folder = 'mixed_10h_bysnr'\n",
    "log_folder = 'train_log'\n",
    "phase_folder = 'train_phase'\n",
    "# a = os.listdir(os.path.join(orig_path,raw_folder))\n",
    "# a = natsorted(a)\n",
    "if not os.path.exists(os.path.normpath(os.path.join(write_path,log_folder))):\n",
    "    os.mkdir(os.path.normpath(os.path.join(write_path,log_folder)))\n",
    "if not os.path.exists(os.path.normpath(os.path.join(write_path,phase_folder))):\n",
    "    os.mkdir(os.path.normpath(os.path.join(write_path,phase_folder)))\n",
    "for filename in data:\n",
    "    if filename!='clean':\n",
    "        b = os.listdir(os.path.join(Data_path,raw_folder,filename))\n",
    "        b = natsorted(b)[:20]\n",
    "        if not os.path.exists(os.path.normpath(os.path.join(write_path,log_folder,filename))):\n",
    "            os.mkdir(os.path.normpath(os.path.join(write_path,log_folder,filename)))\n",
    "        if not os.path.exists(os.path.normpath(os.path.join(write_path,phase_folder,filename))):\n",
    "            os.mkdir(os.path.normpath(os.path.join(write_path,phase_folder,filename)))\n",
    "        for filename2 in b:\n",
    "            wav_data, sr = librosa.load(os.path.join(Data_path,raw_folder)+\"/\"+filename+'/'+filename2, sr=16000) \n",
    "            framed_data=librosa.core.stft(wav_data, n_fft=512, hop_length=256, win_length=512, window='hann')\n",
    "            abslt=np.absolute(framed_data)**2\n",
    "            dft_signal=np.log10(abslt+1e-7*np.ones(np.shape(abslt)))\n",
    "            for i in range(m.floor(w/2)):\n",
    "                dft_signal=np.insert(dft_signal,0,0,axis = 1)\n",
    "            data_phase=np.angle(framed_data)   \n",
    "            print(str(filename2.replace('.wav','')))\n",
    "            np.savetxt(os.path.join(write_path,log_folder,str(filename),str(filename2.replace('.wav','.txt'))), dft_signal.T, delimiter=',')\n",
    "            np.savetxt(os.path.join(write_path,phase_folder,str(filename),str(filename2.replace('.wav','.txt'))), data_phase.T, delimiter=',')\n"
   ]
  },
  {
   "cell_type": "code",
   "execution_count": 16,
   "metadata": {},
   "outputs": [],
   "source": [
    "raw_folder = 'mixed_10h_bysnr'\n",
    "log_folder = 'train_log2'\n",
    "phase_folder = 'train_phase2'\n",
    "# a = os.listdir(os.path.join(orig_path,raw_folder))\n",
    "# a = natsorted(a)\n",
    "if not os.path.exists(os.path.normpath(os.path.join(write_path,log_folder))):\n",
    "    os.mkdir(os.path.normpath(os.path.join(write_path,log_folder)))\n",
    "if not os.path.exists(os.path.normpath(os.path.join(write_path,phase_folder))):\n",
    "    os.mkdir(os.path.normpath(os.path.join(write_path,phase_folder)))\n",
    "for filename in data:\n",
    "    if filename!='clean':\n",
    "        b = os.listdir(os.path.join(Data_path,raw_folder,filename))\n",
    "        b = natsorted(b)[:20]\n",
    "        if not os.path.exists(os.path.join(write_path,log_folder,filename)):\n",
    "            os.mkdir(os.path.join(write_path,log_folder,filename))\n",
    "        if not os.path.exists(os.path.join(write_path,phase_folder ,filename)):\n",
    "            os.mkdir(os.path.join(write_path,phase_folder ,filename))\n",
    "        for filename2 in b:\n",
    "            wav_data, sr = librosa.load(os.path.join(Data_path,raw_folder,filename,filename2), sr=16000) \n",
    "            framed_data=librosa.core.stft(wav_data, n_fft=512, hop_length=256, win_length=512, window='hann')\n",
    "            abslt=np.absolute(framed_data)**2\n",
    "            dft_signal=np.log10(abslt+1e-7*np.ones(np.shape(abslt)))\n",
    "            data_phase=np.angle(framed_data)    \n",
    "            np.savetxt(os.path.join(write_path,log_folder,filename,str(filename2.replace('.wav','.txt'))), dft_signal.T, delimiter=',')\n",
    "            np.savetxt(os.path.join(write_path,phase_folder ,filename,str(filename2.replace('.wav','.txt'))), data_phase.T, delimiter=',')"
   ]
  },
  {
   "cell_type": "code",
   "execution_count": 18,
   "metadata": {},
   "outputs": [],
   "source": [
    "raw_folder = 'single_dataset_16'\n",
    "log_folder = 'train_log'\n",
    "phase_folder = 'train_phase'\n",
    "b = os.listdir(os.path.join(Data_path,'mixed_10h_bysnr','0'))\n",
    "b = natsorted(b)\n",
    "speaker='2'\n",
    "num_of_snrs = 6\n",
    "num_of_speakers = 2\n",
    "a = os.listdir(os.path.join(orig_path,raw_folder,speaker))\n",
    "a = natsorted(a)[0:10]\n",
    "filename='clean'\n",
    "if not os.path.exists(os.path.join(write_path,log_folder,filename)):\n",
    "    os.mkdir(os.path.join(write_path,log_folder,filename))\n",
    "wav = []\n",
    "for filename2 in a:\n",
    "    wav_data, sr = librosa.load(os.path.join(orig_path,raw_folder,speaker,filename2), sr=16000)   \n",
    "    maxim = np.max(wav_data)\n",
    "    wav_data = wav_data/maxim\n",
    "    for i in range(num_of_speakers):\n",
    "        wav.append(wav_data)\n",
    "for datafile,i in zip(b,range(len(wav))):\n",
    "    np.savetxt(os.path.normpath(os.path.join(write_path,log_folder,filename,str(datafile.replace('.wav','.txt')))), wav[i], delimiter=',')\n",
    "\n"
   ]
  },
  {
   "cell_type": "code",
   "execution_count": 19,
   "metadata": {},
   "outputs": [
    {
     "data": {
      "text/plain": [
       "'bbbl9n.wav'"
      ]
     },
     "execution_count": 19,
     "metadata": {},
     "output_type": "execute_result"
    }
   ],
   "source": [
    "filename2"
   ]
  },
  {
   "cell_type": "code",
   "execution_count": 8,
   "metadata": {},
   "outputs": [],
   "source": [
    "# raw_folder = 'single_dataset_16'\n",
    "# log_folder = 'test_log'\n",
    "# phase_folder = 'test_phase'\n",
    "# a = os.listdir(os.path.join(orig_path,raw_folder))\n",
    "# a = natsorted(a)\n",
    "# for filename in a:\n",
    "#     if filename=='clean':\n",
    "#         b = os.listdir(os.path.join(orig_path,raw_folder,filename))\n",
    "#         b = natsorted(b)\n",
    "#         if not os.path.exists(os.path.join(orig_path,log_folder,filename)):\n",
    "#             os.mkdir(os.path.join(orig_path,log_folder,filename))\n",
    "#         for filename2 in b:\n",
    "#             wav_data, sr = librosa.load(os.path.join(orig_path,raw_folder,filename,filename2), sr=16000)   \n",
    "#             np.savetxt(os.path.join(orig_path,log_folder,str(filename),str(filename2.replace('.wav','.txt'))), wav_data, delimiter=',')\n"
   ]
  },
  {
   "cell_type": "code",
   "execution_count": 8,
   "metadata": {},
   "outputs": [],
   "source": [
    "# raw_folder = 'sec_mixed2_6_test'\n",
    "# clean_filename = 'clean_data'\n",
    "# a = os.listdir(os.path.join(orig_path,raw_folder))\n",
    "# a = natsorted(a)\n",
    "# clean=[]\n",
    "# f = h5py.File(clean_filename+'.hdf5', 'w')\n",
    "# d = f.create_dataset(clean_filename, (0,257),maxshape=(None,257), dtype='f', chunks=True)\n",
    "# for filename in a:\n",
    "#     if filename=='clean':\n",
    "#         b = os.listdir(os.path.join(orig_path,raw_folder,filename))\n",
    "#         b = natsorted(b)\n",
    "#         for i in range(len(a)-1):\n",
    "#             for filename2 in b:\n",
    "#                 wav_data, sr = librosa.load(os.path.join(orig_path,raw_folder,filename,filename2), sr=16000)   \n",
    "#                 framed_data=librosa.core.stft(wav_data, n_fft=512, hop_length=256, win_length=512, window='hann')\n",
    "#                 abslt=np.absolute(framed_data)**2\n",
    "#                 dft_signal=np.log10(abslt+1e-7*np.ones(np.shape(abslt)))\n",
    "# #                 clean.append(dft_signal.T)\n",
    "#                 d.resize(d.shape[0]+dft_signal.shape[1], axis=0)   \n",
    "#                 d[-1*dft_signal.shape[1]:] = dft_signal.T\n",
    "# f.close()\n",
    "# x=1\n",
    "# hf = h5py.File('clean_data.h5', 'w')\n",
    "# hf.create_dataset('clean_data', data=x)\n",
    "# hf.close()"
   ]
  },
  {
   "cell_type": "code",
   "execution_count": 29,
   "metadata": {},
   "outputs": [
    {
     "data": {
      "text/plain": [
       "['0', '3', '6', 'clean', 'm3', 'm6', 'm9']"
      ]
     },
     "execution_count": 29,
     "metadata": {},
     "output_type": "execute_result"
    }
   ],
   "source": [
    "a"
   ]
  },
  {
   "cell_type": "code",
   "execution_count": null,
   "metadata": {},
   "outputs": [],
   "source": [
    "import h5py\n",
    "h5f = h5py.File('ftr_refrmd_test.hdf5','r')\n",
    "x = h5f['ftr_refrmd_test']\n",
    "h5f.close()\n",
    "x.shape"
   ]
  },
  {
   "cell_type": "code",
   "execution_count": 20,
   "metadata": {},
   "outputs": [
    {
     "name": "stdout",
     "output_type": "stream",
     "text": [
      "771\n",
      "771\n",
      "771\n",
      "771\n",
      "771\n",
      "771\n",
      "771\n",
      "771\n",
      "771\n",
      "771\n",
      "771\n",
      "771\n",
      "771\n",
      "771\n",
      "771\n",
      "771\n",
      "771\n",
      "771\n",
      "771\n",
      "771\n",
      "771\n",
      "771\n",
      "771\n",
      "771\n",
      "771\n",
      "771\n",
      "771\n",
      "771\n",
      "771\n",
      "771\n",
      "771\n",
      "771\n",
      "771\n",
      "771\n",
      "771\n",
      "771\n",
      "771\n",
      "771\n",
      "771\n",
      "771\n",
      "771\n",
      "771\n",
      "771\n",
      "771\n",
      "771\n",
      "771\n",
      "771\n",
      "771\n",
      "771\n",
      "771\n",
      "771\n",
      "771\n",
      "771\n",
      "771\n",
      "771\n",
      "771\n",
      "771\n",
      "771\n",
      "771\n",
      "771\n",
      "771\n",
      "771\n",
      "771\n",
      "771\n",
      "771\n",
      "771\n",
      "771\n",
      "771\n",
      "771\n",
      "771\n",
      "771\n",
      "771\n",
      "771\n",
      "771\n",
      "771\n",
      "771\n",
      "771\n",
      "771\n",
      "771\n",
      "771\n",
      "771\n",
      "771\n",
      "771\n",
      "771\n",
      "771\n",
      "771\n",
      "771\n",
      "771\n",
      "771\n",
      "771\n",
      "771\n",
      "771\n",
      "771\n",
      "771\n",
      "771\n",
      "771\n",
      "771\n",
      "771\n",
      "771\n",
      "771\n",
      "771\n",
      "771\n",
      "771\n",
      "771\n",
      "771\n",
      "771\n",
      "771\n",
      "771\n",
      "771\n",
      "771\n",
      "771\n",
      "771\n",
      "771\n",
      "771\n",
      "771\n",
      "771\n",
      "771\n",
      "771\n",
      "771\n",
      "771\n"
     ]
    }
   ],
   "source": [
    "import math as m\n",
    "import numpy as np\n",
    "import h5py\n",
    "w = 3\n",
    "i = 1\n",
    "refrmd_file = 'ftr_refrmd_train_for_test'\n",
    "log_folder = 'train_log'\n",
    "phase_folder = 'train_phase'\n",
    "# tot_mean=np.loadtxt('mean.txt')\n",
    "# tot_std=np.loadtxt('std.txt')\n",
    "a = os.listdir(os.path.join(write_path,log_folder))\n",
    "a = natsorted(a)\n",
    "# # f.close()\n",
    "# f = h5py.File(refrmd_file+'.hdf5', 'w')\n",
    "# d = f.create_dataset(refrmd_file, (0,257*w),maxshape=(None,257*w), dtype='f', chunks=True)\n",
    "ftr_refrmd=[]\n",
    "if not os.path.exists(os.path.join(write_path,refrmd_file)):\n",
    "    os.mkdir(os.path.join(write_path,refrmd_file))\n",
    "for filename in a:\n",
    "    if filename!='clean':\n",
    "        b = natsorted(b)\n",
    "        b = os.listdir(os.path.join(write_path,log_folder,filename))\n",
    "        if not os.path.exists(os.path.join(write_path,refrmd_file,filename)):\n",
    "            os.mkdir(os.path.join(write_path,refrmd_file,filename))\n",
    "        for filename2 in b:\n",
    "            ftr=np.loadtxt(os.path.join(write_path,log_folder,filename,filename2),delimiter=',')\n",
    "            ftr_refrmd=[]\n",
    "            for i in range(m.floor(w/2)):\n",
    "                p=-m.floor(w/2)\n",
    "                temp = []\n",
    "                for j in range(w):\n",
    "                    if np.all(ftr[i]==0):\n",
    "                        break\n",
    "                    temp.extend(ftr[i+p+j])\n",
    "                if np.any(temp!=[]):\n",
    "                    ftr_refrmd.append(temp)\n",
    "            for i in range(m.floor(w/2),ftr.shape[0]-m.floor(w/2)-1):\n",
    "                k=-m.floor(w/2)\n",
    "                temp = []\n",
    "                for j in range(w):\n",
    "                    if np.all(ftr[i]==0):\n",
    "                        break\n",
    "                    temp.extend(ftr[i+k])\n",
    "                    k=k+1\n",
    "                if np.any(temp!=[]):\n",
    "                    ftr_refrmd.append(temp)\n",
    "                if i%1000==0:\n",
    "                    print(i)\n",
    "            for i in range(ftr.shape[0]-m.floor(w/2)-1,ftr.shape[0]):\n",
    "                p=-m.floor(w/2)\n",
    "                temp = []\n",
    "                for j in range(w):\n",
    "                    if np.all(ftr[i]==0):\n",
    "                        break\n",
    "                    if j>m.floor(w/2)+(ftr.shape[0]-i)-1:\n",
    "                        temp.extend(np.zeros(ftr[ftr.shape[0]-1].shape))\n",
    "                    else:\n",
    "                        temp.extend(ftr[i+p+j])\n",
    "                if np.any(temp!=[]):\n",
    "                    ftr_refrmd.append(temp)\n",
    "            print(len(ftr_refrmd[0]))\n",
    "#             ftr_refrmd=(ftr_refrmd-tot_mean)/tot_std\n",
    "            np.savetxt(os.path.join(write_path,refrmd_file,str(filename),str(filename2.replace('.wav','.txt'))), ftr_refrmd, delimiter=',')\n",
    "            \n",
    "# d.resize(d.shape[0]+len(ftr_refrmd), axis=0)   \n",
    "# d[-1*len(ftr_refrmd):] = ftr_refrmd\n",
    "# ftr_refrmd=[]\n",
    "# f.close()"
   ]
  },
  {
   "cell_type": "code",
   "execution_count": 15,
   "metadata": {},
   "outputs": [
    {
     "ename": "NameError",
     "evalue": "name 'ftr' is not defined",
     "output_type": "error",
     "traceback": [
      "\u001b[1;31m---------------------------------------------------------------------------\u001b[0m",
      "\u001b[1;31mNameError\u001b[0m                                 Traceback (most recent call last)",
      "\u001b[1;32m<ipython-input-15-e46e898ce63e>\u001b[0m in \u001b[0;36m<module>\u001b[1;34m()\u001b[0m\n\u001b[1;32m----> 1\u001b[1;33m \u001b[0mftr\u001b[0m\u001b[1;33m[\u001b[0m\u001b[0mi\u001b[0m\u001b[1;33m+\u001b[0m\u001b[0mp\u001b[0m\u001b[1;33m+\u001b[0m\u001b[0mj\u001b[0m\u001b[1;33m]\u001b[0m\u001b[1;33m\u001b[0m\u001b[1;33m\u001b[0m\u001b[0m\n\u001b[0m",
      "\u001b[1;31mNameError\u001b[0m: name 'ftr' is not defined"
     ]
    }
   ],
   "source": [
    "ftr[i+p+j]\n"
   ]
  },
  {
   "cell_type": "code",
   "execution_count": 21,
   "metadata": {},
   "outputs": [
    {
     "data": {
      "text/plain": [
       "13692"
      ]
     },
     "execution_count": 21,
     "metadata": {},
     "output_type": "execute_result"
    }
   ],
   "source": [
    "len(ftr_refrmd)"
   ]
  },
  {
   "cell_type": "code",
   "execution_count": 1,
   "metadata": {},
   "outputs": [
    {
     "ename": "NameError",
     "evalue": "name 'h5py' is not defined",
     "output_type": "error",
     "traceback": [
      "\u001b[1;31m---------------------------------------------------------------------------\u001b[0m",
      "\u001b[1;31mNameError\u001b[0m                                 Traceback (most recent call last)",
      "\u001b[1;32m<ipython-input-1-db37f775febe>\u001b[0m in \u001b[0;36m<module>\u001b[1;34m()\u001b[0m\n\u001b[1;32m----> 1\u001b[1;33m \u001b[0mh5f\u001b[0m \u001b[1;33m=\u001b[0m \u001b[0mh5py\u001b[0m\u001b[1;33m.\u001b[0m\u001b[0mFile\u001b[0m\u001b[1;33m(\u001b[0m\u001b[1;34m'ftr_refrmd_test.hdf5'\u001b[0m\u001b[1;33m,\u001b[0m\u001b[1;34m'r'\u001b[0m\u001b[1;33m)\u001b[0m\u001b[1;33m\u001b[0m\u001b[0m\n\u001b[0m\u001b[0;32m      2\u001b[0m \u001b[0mx\u001b[0m \u001b[1;33m=\u001b[0m \u001b[0mh5f\u001b[0m\u001b[1;33m[\u001b[0m\u001b[1;34m'ftr_refrmd_test'\u001b[0m\u001b[1;33m]\u001b[0m\u001b[1;33m[\u001b[0m\u001b[1;36m0\u001b[0m\u001b[1;33m:\u001b[0m\u001b[1;33m]\u001b[0m\u001b[1;33m\u001b[0m\u001b[0m\n\u001b[0;32m      3\u001b[0m \u001b[0mh5f\u001b[0m\u001b[1;33m.\u001b[0m\u001b[0mclose\u001b[0m\u001b[1;33m(\u001b[0m\u001b[1;33m)\u001b[0m\u001b[1;33m\u001b[0m\u001b[0m\n\u001b[0;32m      4\u001b[0m \u001b[0mx\u001b[0m\u001b[1;33m.\u001b[0m\u001b[0mshape\u001b[0m\u001b[1;33m\u001b[0m\u001b[0m\n\u001b[0;32m      5\u001b[0m \u001b[1;33m\u001b[0m\u001b[0m\n",
      "\u001b[1;31mNameError\u001b[0m: name 'h5py' is not defined"
     ]
    }
   ],
   "source": [
    "h5f = h5py.File('ftr_refrmd_test.hdf5','r')\n",
    "x = h5f['ftr_refrmd_test'][0:]\n",
    "h5f.close()\n",
    "x.shape\n",
    "\n"
   ]
  },
  {
   "cell_type": "code",
   "execution_count": 14,
   "metadata": {},
   "outputs": [
    {
     "data": {
      "text/plain": [
       "771"
      ]
     },
     "execution_count": 14,
     "metadata": {},
     "output_type": "execute_result"
    }
   ],
   "source": [
    "len(ftr_refrmd[0])"
   ]
  },
  {
   "cell_type": "code",
   "execution_count": 4,
   "metadata": {},
   "outputs": [
    {
     "ename": "NameError",
     "evalue": "name 'f' is not defined",
     "output_type": "error",
     "traceback": [
      "\u001b[1;31m---------------------------------------------------------------------------\u001b[0m",
      "\u001b[1;31mNameError\u001b[0m                                 Traceback (most recent call last)",
      "\u001b[1;32m<ipython-input-4-b5edb7b78a9a>\u001b[0m in \u001b[0;36m<module>\u001b[1;34m()\u001b[0m\n\u001b[1;32m----> 1\u001b[1;33m \u001b[0mf\u001b[0m\u001b[1;33m.\u001b[0m\u001b[0mclose\u001b[0m\u001b[1;33m(\u001b[0m\u001b[1;33m)\u001b[0m\u001b[1;33m\u001b[0m\u001b[1;33m\u001b[0m\u001b[0m\n\u001b[0m",
      "\u001b[1;31mNameError\u001b[0m: name 'f' is not defined"
     ]
    }
   ],
   "source": [
    "f.close()"
   ]
  },
  {
   "cell_type": "code",
   "execution_count": null,
   "metadata": {},
   "outputs": [],
   "source": []
  }
 ],
 "metadata": {
  "kernelspec": {
   "display_name": "Python 3",
   "language": "python",
   "name": "python3"
  },
  "language_info": {
   "codemirror_mode": {
    "name": "ipython",
    "version": 3
   },
   "file_extension": ".py",
   "mimetype": "text/x-python",
   "name": "python",
   "nbconvert_exporter": "python",
   "pygments_lexer": "ipython3",
   "version": "3.6.7"
  }
 },
 "nbformat": 4,
 "nbformat_minor": 2
}
