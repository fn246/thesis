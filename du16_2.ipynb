{
 "cells": [
  {
   "cell_type": "code",
   "execution_count": 5,
   "metadata": {
    "scrolled": true
   },
   "outputs": [
    {
     "name": "stdout",
     "output_type": "stream",
     "text": [
      "imported\n",
      "i was here\n",
      "i was here\n",
      "initialized\n",
      "Epoch 1/20\n",
      "5342/5344 [============================>.] - ETA: 0s - loss: 1.1208\n",
      "Epoch 00001: saving model to D:\\studies\\university\\thesis\\speech_separation_codes\\du16\\donesomestuff\\checkpoints\\normal\\cp-0001.ckpt\n",
      "5344/5344 [==============================] - 208s 39ms/step - loss: 1.1207 - val_loss: 1.8447\n",
      "Epoch 2/20\n",
      "5343/5344 [============================>.] - ETA: 0s - loss: 0.9449\n",
      "Epoch 00002: saving model to D:\\studies\\university\\thesis\\speech_separation_codes\\du16\\donesomestuff\\checkpoints\\normal\\cp-0002.ckpt\n",
      "5344/5344 [==============================] - 230s 43ms/step - loss: 0.9449 - val_loss: 1.7212\n",
      "Epoch 3/20\n",
      "5343/5344 [============================>.] - ETA: 0s - loss: 0.8784\n",
      "Epoch 00003: saving model to D:\\studies\\university\\thesis\\speech_separation_codes\\du16\\donesomestuff\\checkpoints\\normal\\cp-0003.ckpt\n",
      "5344/5344 [==============================] - 236s 44ms/step - loss: 0.8783 - val_loss: 1.6972\n",
      "Epoch 4/20\n",
      "5343/5344 [============================>.] - ETA: 0s - loss: 0.8427\n",
      "Epoch 00004: saving model to D:\\studies\\university\\thesis\\speech_separation_codes\\du16\\donesomestuff\\checkpoints\\normal\\cp-0004.ckpt\n",
      "5344/5344 [==============================] - 220s 41ms/step - loss: 0.8427 - val_loss: 1.7047\n",
      "Epoch 5/20\n",
      "5342/5344 [============================>.] - ETA: 0s - loss: 0.8163\n",
      "Epoch 00005: saving model to D:\\studies\\university\\thesis\\speech_separation_codes\\du16\\donesomestuff\\checkpoints\\normal\\cp-0005.ckpt\n",
      "5344/5344 [==============================] - 222s 41ms/step - loss: 0.8163 - val_loss: 1.7673\n",
      "Epoch 6/20\n",
      "5342/5344 [============================>.] - ETA: 0s - loss: 0.7988\n",
      "Epoch 00006: saving model to D:\\studies\\university\\thesis\\speech_separation_codes\\du16\\donesomestuff\\checkpoints\\normal\\cp-0006.ckpt\n",
      "5344/5344 [==============================] - 233s 44ms/step - loss: 0.7988 - val_loss: 1.6792\n",
      "Epoch 7/20\n",
      "5343/5344 [============================>.] - ETA: 0s - loss: 0.7841\n",
      "Epoch 00007: saving model to D:\\studies\\university\\thesis\\speech_separation_codes\\du16\\donesomestuff\\checkpoints\\normal\\cp-0007.ckpt\n",
      "5344/5344 [==============================] - 237s 44ms/step - loss: 0.7841 - val_loss: 1.6894\n",
      "Epoch 8/20\n",
      "5343/5344 [============================>.] - ETA: 0s - loss: 0.7725\n",
      "Epoch 00008: saving model to D:\\studies\\university\\thesis\\speech_separation_codes\\du16\\donesomestuff\\checkpoints\\normal\\cp-0008.ckpt\n",
      "5344/5344 [==============================] - 225s 42ms/step - loss: 0.7725 - val_loss: 1.7012\n",
      "Epoch 9/20\n",
      "5343/5344 [============================>.] - ETA: 0s - loss: 0.7646\n",
      "Epoch 00009: saving model to D:\\studies\\university\\thesis\\speech_separation_codes\\du16\\donesomestuff\\checkpoints\\normal\\cp-0009.ckpt\n",
      "5344/5344 [==============================] - 219s 41ms/step - loss: 0.7645 - val_loss: 1.7157\n",
      "Epoch 10/20\n",
      "5343/5344 [============================>.] - ETA: 0s - loss: 0.7559\n",
      "Epoch 00010: saving model to D:\\studies\\university\\thesis\\speech_separation_codes\\du16\\donesomestuff\\checkpoints\\normal\\cp-0010.ckpt\n",
      "5344/5344 [==============================] - 236s 44ms/step - loss: 0.7558 - val_loss: 1.7245\n",
      "Epoch 11/20\n",
      "5343/5344 [============================>.] - ETA: 0s - loss: 0.7491\n",
      "Epoch 00011: saving model to D:\\studies\\university\\thesis\\speech_separation_codes\\du16\\donesomestuff\\checkpoints\\normal\\cp-0011.ckpt\n",
      "5344/5344 [==============================] - 219s 41ms/step - loss: 0.7491 - val_loss: 1.6869\n",
      "Epoch 12/20\n",
      "5342/5344 [============================>.] - ETA: 0s - loss: 0.7426\n",
      "Epoch 00012: saving model to D:\\studies\\university\\thesis\\speech_separation_codes\\du16\\donesomestuff\\checkpoints\\normal\\cp-0012.ckpt\n",
      "5344/5344 [==============================] - 204s 38ms/step - loss: 0.7425 - val_loss: 1.6864\n",
      "Epoch 13/20\n",
      "5343/5344 [============================>.] - ETA: 0s - loss: 0.7364- \n",
      "Epoch 00013: saving model to D:\\studies\\university\\thesis\\speech_separation_codes\\du16\\donesomestuff\\checkpoints\\normal\\cp-0013.ckpt\n",
      "5344/5344 [==============================] - 210s 39ms/step - loss: 0.7364 - val_loss: 1.6786\n",
      "Epoch 14/20\n",
      "5343/5344 [============================>.] - ETA: 0s - loss: 0.7326\n",
      "Epoch 00014: saving model to D:\\studies\\university\\thesis\\speech_separation_codes\\du16\\donesomestuff\\checkpoints\\normal\\cp-0014.ckpt\n",
      "5344/5344 [==============================] - 230s 43ms/step - loss: 0.7326 - val_loss: 1.6862\n",
      "Epoch 15/20\n",
      "5343/5344 [============================>.] - ETA: 0s - loss: 0.7269\n",
      "Epoch 00015: saving model to D:\\studies\\university\\thesis\\speech_separation_codes\\du16\\donesomestuff\\checkpoints\\normal\\cp-0015.ckpt\n",
      "5344/5344 [==============================] - 202s 38ms/step - loss: 0.7269 - val_loss: 1.7035\n",
      "Epoch 16/20\n",
      "5343/5344 [============================>.] - ETA: 0s - loss: 0.7233\n",
      "Epoch 00016: saving model to D:\\studies\\university\\thesis\\speech_separation_codes\\du16\\donesomestuff\\checkpoints\\normal\\cp-0016.ckpt\n",
      "5344/5344 [==============================] - 200s 37ms/step - loss: 0.7233 - val_loss: 1.7307\n",
      "Epoch 17/20\n",
      "5343/5344 [============================>.] - ETA: 0s - loss: 0.7180\n",
      "Epoch 00017: saving model to D:\\studies\\university\\thesis\\speech_separation_codes\\du16\\donesomestuff\\checkpoints\\normal\\cp-0017.ckpt\n",
      "5344/5344 [==============================] - 200s 37ms/step - loss: 0.7179 - val_loss: 1.7703\n",
      "Epoch 18/20\n",
      "5343/5344 [============================>.] - ETA: 0s - loss: 0.7151\n",
      "Epoch 00018: saving model to D:\\studies\\university\\thesis\\speech_separation_codes\\du16\\donesomestuff\\checkpoints\\normal\\cp-0018.ckpt\n",
      "5344/5344 [==============================] - 200s 37ms/step - loss: 0.7151 - val_loss: 1.7911\n",
      "Epoch 19/20\n",
      "5343/5344 [============================>.] - ETA: 0s - loss: 0.7115\n",
      "Epoch 00019: saving model to D:\\studies\\university\\thesis\\speech_separation_codes\\du16\\donesomestuff\\checkpoints\\normal\\cp-0019.ckpt\n",
      "5344/5344 [==============================] - 211s 40ms/step - loss: 0.7115 - val_loss: 1.7524\n",
      "Epoch 20/20\n",
      "5342/5344 [============================>.] - ETA: 0s - loss: 0.7084\n",
      "Epoch 00020: saving model to D:\\studies\\university\\thesis\\speech_separation_codes\\du16\\donesomestuff\\checkpoints\\normal\\cp-0020.ckpt\n",
      "5344/5344 [==============================] - 220s 41ms/step - loss: 0.7084 - val_loss: 1.7774\n",
      "Saved model to disk\n"
     ]
    },
    {
     "data": {
      "image/png": "[encoded data removed]",
      "text/plain": [
       "<Figure size 432x288 with 1 Axes>"
      ]
     },
     "metadata": {
      "needs_background": "light"
     },
     "output_type": "display_data"
    }
   ],
   "source": [
    "#import libraries.\n",
    "import numpy as np\n",
    "# from sklearn.utils import shuffle\n",
    "import tensorflow as tf\n",
    "from tensorflow.keras.models import Sequential\n",
    "from tensorflow.keras.layers import Dense\n",
    "from tensorflow.keras import layers\n",
    "from tensorflow.keras.wrappers.scikit_learn import KerasRegressor\n",
    "# import keras\n",
    "from tensorflow.keras.layers import BatchNormalization\n",
    "from tensorflow.keras import optimizers\n",
    "from tensorflow.keras import regularizers\n",
    "from sklearn.model_selection import cross_val_score\n",
    "from sklearn.model_selection import KFold\n",
    "from sklearn.preprocessing import StandardScaler\n",
    "from sklearn.pipeline import Pipeline\n",
    "from sklearn.metrics import mean_squared_error\n",
    "#import sounddevice as sd\n",
    "# import tensorflow as tf\n",
    "# tf.enable_eager_execution()\n",
    "from pystoi.stoi import stoi\n",
    "import h5py\n",
    "######################\n",
    "#import libraries.\n",
    "import matplotlib.pyplot as plt\n",
    "from tabulate import tabulate\n",
    "import time\n",
    "import os\n",
    "import librosa\n",
    "from librosa.core import stft, istft\n",
    "####import sounddevice as sd\n",
    "import time\n",
    "print('imported')\n",
    "# #######################\n",
    "Data_path = 'D:/studies/university/thesis/speech_separation_codes/du16/donesomestuff'\n",
    "input_tr_name = 'lilftr_refrmd'\n",
    "input_val_name = 'ftr_refrmd_test'\n",
    "target_tr_name = 'lilsingle_dataset_log_16'\n",
    "target_val_name = 'clean_data'\n",
    "tfrecord_folder_parent = 'tfrecord_files'\n",
    "tfrecord_folder = 'tfrecord_files_3h'\n",
    "tfrecord_val_folder = 'test'\n",
    "input_tr_path = os.path.normpath(os.path.join(Data_path,input_tr_name))\n",
    "input_val_path = os.path.normpath(os.path.join(Data_path,input_val_name))\n",
    "target_tr_path = os.path.normpath(os.path.join(Data_path,target_tr_name))\n",
    "target_val_path = os.path.normpath(os.path.join(Data_path,target_val_name))\n",
    "\n",
    "file = h5py.File(target_val_path+'.hdf5','r')\n",
    "val_y = file[target_val_name][0:]\n",
    "file.close()\n",
    "file = h5py.File(input_val_path+'.hdf5','r')\n",
    "val_x = file[input_val_name][0:]\n",
    "file.close()\n",
    "\n",
    "hh = h5py.File(target_tr_path+'.hdf5', 'r')\n",
    "d=hh[target_tr_name]\n",
    "len_data=d.shape\n",
    "hh.close()\n",
    "\n",
    "file = h5py.File(target_val_path+'.hdf5','r')\n",
    "val_y = file[target_val_name]\n",
    "val_len=val_y.shape\n",
    "file.close()\n",
    "\n",
    "w=3\n",
    "# print(len_data)\n",
    "#######################\n",
    "#define reconstruct function to reconstruct sound from framed signal.\n",
    "def reconstruct(wave,angle):\n",
    "    recon = np.sqrt(np.power(10, wave))\n",
    "    recon1 = recon*np.cos(angle)+recon*np.sin(angle)*1j\n",
    "    recon = librosa.core.istft((recon1.T), hop_length=200, win_length=500, window='hann')\n",
    "    return recon\n",
    "#######################\n",
    "I=0\n",
    "global batch_size\n",
    "batch_size=128\n",
    "# epochs_num=50\n",
    "global datalen\n",
    "datalen=len_data[0]\n",
    "\n",
    "file.close()\n",
    "h = [1024,512]\n",
    "seed = 7\n",
    "from tensorflow.keras.layers import Activation\n",
    "np.random.seed(seed)\n",
    "model = Sequential()\n",
    "act=layers.LeakyReLU(alpha=0.1)\n",
    "model.add(Dense(h[0], input_dim = w*len_data[1]))\n",
    "# model.add(BatchNormalization())\n",
    "model.add(act)\n",
    "act=layers.LeakyReLU(alpha=0.1)\n",
    "model.add(Dense(h[1]))\n",
    "model.add(act)\n",
    "act=layers.LeakyReLU(alpha=0.1)\n",
    "model.add(Dense(len_data[1]))\n",
    "#############################################\n",
    "import os\n",
    "from natsort import natsorted\n",
    "\n",
    "def _parse_function(example_proto):\n",
    "    features = {\"X\": tf.FixedLenFeature((3*257), tf.float32),\n",
    "              \"Y\": tf.FixedLenFeature((257), tf.float32)}\n",
    "    parsed_features = tf.parse_single_example(example_proto, features)\n",
    "    print(\"i was here\")\n",
    "    return parsed_features[\"X\"], parsed_features[\"Y\"]\n",
    "\n",
    "# orig_path = os.getcwd()\n",
    "tfrecord_path = os.path.normpath(os.path.join(Data_path,tfrecord_folder_parent,tfrecord_folder))\n",
    "sorted_names = natsorted(os.listdir(tfrecord_path))\n",
    "trainfilenames = []\n",
    "for i in sorted_names:\n",
    "    trainfilenames.append(os.path.normpath(os.path.join(tfrecord_path,i)))\n",
    "filenames = tf.placeholder(tf.string, shape=[None])\n",
    "dataset = tf.data.TFRecordDataset(filenames)\n",
    "dataset = dataset.map(_parse_function)  # Parse the record into tensors.\n",
    "dataset = dataset.repeat()  # Repeat the input indefinitely.\n",
    "dataset = dataset.batch(128)\n",
    "iterator = dataset.make_initializable_iterator()\n",
    "\n",
    "\n",
    "tfrecord_path_val = os.path.normpath(os.path.join(Data_path,tfrecord_folder_parent,tfrecord_val_folder))\n",
    "sorted_names_val = natsorted(os.listdir(tfrecord_path_val))\n",
    "trainfilenames_val = []\n",
    "for i in sorted_names_val:\n",
    "    trainfilenames_val.append(os.path.normpath(os.path.join(tfrecord_path_val,i)))\n",
    "filenames_val = tf.placeholder(tf.string, shape=[None])\n",
    "dataset_val = tf.data.TFRecordDataset(filenames_val)\n",
    "dataset_val = dataset_val.map(_parse_function)  # Parse the record into tensors.\n",
    "dataset_val = dataset_val.repeat()  # Repeat the input indefinitely.\n",
    "dataset_val = dataset_val.batch(128)\n",
    "iterator_val = dataset_val.make_initializable_iterator()\n",
    "\n",
    "\n",
    "# You can feed the initializer with the appropriate filenames for the current\n",
    "# phase of execution, e.g. training vs. validation.\n",
    "# next_elem = iterator_val.get_next()\n",
    "# Initialize `iterator` with training data.\n",
    "with tf.Session() as sess:\n",
    "    sess.run(tf.global_variables_initializer())\n",
    "    sess.run(iterator.initializer, feed_dict={filenames: trainfilenames})\n",
    "    sess.run(iterator_val.initializer, feed_dict={filenames_val: trainfilenames_val})\n",
    "    print(\"initialized\")\n",
    "    model.compile(loss='mean_squared_error', optimizer='adam')\n",
    "    epochs_num=20\n",
    "    steps = len_data[0] // batch_size\n",
    "    val_steps = val_len[0] // batch_size\n",
    "    checkpoint_path = os.path.normpath(os.path.join(Data_path, \"checkpoints/normal/cp-{epoch:04d}.ckpt\"))\n",
    "    checkpoint_dir = os.path.dirname(checkpoint_path)\n",
    "\n",
    "    cp_callback = tf.keras.callbacks.ModelCheckpoint(\n",
    "        checkpoint_path, verbose=1, save_weights_only=False,\n",
    "        # Save weights, every 5-epochs.\n",
    "        period=1)\n",
    "    history = model.fit( iterator, steps_per_epoch=steps,epochs=epochs_num, callbacks = [cp_callback], verbose=1,validation_data=iterator_val,validation_steps=val_steps)\n",
    "    model.save(os.path.normpath(os.path.join(Data_path, \"model_3h_dataset.json\")))\n",
    "#     model_json = model.to_json()\n",
    "#     with open(os.path.normpath(os.path.join(Data_path, \"model_3h_dataset.json\", \"w\"))) as json_file:\n",
    "#         json_file.write(model_json)\n",
    "#     model.save_weights(os.path.normpath(os.path.join(Data_path, \"model_3h_dataset.json\", \"w\")))\n",
    "    print(\"Saved model to disk\")\n",
    "# %matplotlib inline\n",
    "# plt.plot(history.history['acc'])\n",
    "# plt.plot(history.history['val_acc'])\n",
    "# plt.title('model accuracy')\n",
    "# plt.ylabel('accuracy')\n",
    "# plt.xlabel('epoch')\n",
    "# plt.legend(['train'], loc='upper left')\n",
    "# plt.show()\n",
    "# summarize history for loss\n",
    "plt.plot(history.history['loss'])\n",
    "plt.plot(history.history['val_loss'])\n",
    "plt.title('model loss')\n",
    "plt.ylabel('loss')\n",
    "plt.xlabel('epoch')\n",
    "plt.legend(['train'], loc='upper left')\n",
    "plt.show()\n",
    "# model_json = model.to_json()\n",
    "# with open(\"model_10h_dataset.json\", \"w\") as json_file:\n",
    "#     json_file.write(model_json)\n",
    "# model.save_weights(\"model_10h_dataset.h5\")\n",
    "# print(\"Saved model to disk\")"
   ]
  },
  {
   "cell_type": "code",
   "execution_count": 1,
   "metadata": {
    "scrolled": false
   },
   "outputs": [
    {
     "ename": "NameError",
     "evalue": "name 'tf' is not defined",
     "output_type": "error",
     "traceback": [
      "\u001b[1;31m---------------------------------------------------------------------------\u001b[0m",
      "\u001b[1;31mNameError\u001b[0m                                 Traceback (most recent call last)",
      "\u001b[1;32m<ipython-input-1-65996cac02ec>\u001b[0m in \u001b[0;36m<module>\u001b[1;34m\u001b[0m\n\u001b[1;32m----> 1\u001b[1;33m \u001b[0mtf\u001b[0m\u001b[1;33m.\u001b[0m\u001b[0m__version__\u001b[0m\u001b[1;33m\u001b[0m\u001b[0m\n\u001b[0m",
      "\u001b[1;31mNameError\u001b[0m: name 'tf' is not defined"
     ]
    }
   ],
   "source": [
    "tf.__version__"
   ]
  },
  {
   "cell_type": "code",
   "execution_count": 2,
   "metadata": {},
   "outputs": [
    {
     "data": {
      "text/plain": [
       "'1.13.1'"
      ]
     },
     "execution_count": 2,
     "metadata": {},
     "output_type": "execute_result"
    }
   ],
   "source": [
    "import tensorflow as tf\n",
    "tf.__version__"
   ]
  },
  {
   "cell_type": "code",
   "execution_count": 27,
   "metadata": {},
   "outputs": [],
   "source": [
    "a=tf.constant([1,2,3])\n",
    "with tf.Session() as sess:\n",
    "    sess.run(tf.global_variables_initializer())\n",
    "    label_numpy = a.eval()"
   ]
  },
  {
   "cell_type": "code",
   "execution_count": 97,
   "metadata": {},
   "outputs": [
    {
     "data": {
      "text/plain": [
       "(771,)"
      ]
     },
     "execution_count": 97,
     "metadata": {},
     "output_type": "execute_result"
    }
   ],
   "source": [
    "import h5py \n",
    "import tensorflow as tf\n",
    "hh = h5py.File('ftr_refrmd_10h.hdf5', 'r')\n",
    "d=hh['ftr_refrmd_10h'][0]\n",
    "len_data=d.shape\n",
    "hh.close()\n",
    "len_data"
   ]
  },
  {
   "cell_type": "code",
   "execution_count": 24,
   "metadata": {},
   "outputs": [],
   "source": [
    "file.close()"
   ]
  },
  {
   "cell_type": "code",
   "execution_count": 92,
   "metadata": {},
   "outputs": [
    {
     "data": {
      "text/plain": [
       "<PrefetchDataset shapes: ((?, 257), (?,)), types: (tf.float32, tf.float32)>"
      ]
     },
     "execution_count": 92,
     "metadata": {},
     "output_type": "execute_result"
    }
   ],
   "source": [
    "dataset"
   ]
  },
  {
   "cell_type": "code",
   "execution_count": null,
   "metadata": {},
   "outputs": [],
   "source": []
  }
 ],
 "metadata": {
  "kernelspec": {
   "display_name": "Python (myenv)",
   "language": "python",
   "name": "myenv"
  },
  "language_info": {
   "codemirror_mode": {
    "name": "ipython",
    "version": 3
   },
   "file_extension": ".py",
   "mimetype": "text/x-python",
   "name": "python",
   "nbconvert_exporter": "python",
   "pygments_lexer": "ipython3",
   "version": "3.6.4"
  }
 },
 "nbformat": 4,
 "nbformat_minor": 2
}
